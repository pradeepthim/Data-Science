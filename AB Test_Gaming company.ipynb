{
 "cells": [
  {
   "attachments": {},
   "cell_type": "markdown",
   "id": "6df718ad",
   "metadata": {},
   "source": [
    "Lets consider an online game which contains gates that force the users to wait a non-trivial amount of time or make an in-app purchase to progress. Initially the first gate was placed at level 30, but in this notebook we're going to analyze an AB-test where we moved the first gate in the game from level 30 to level 40. In particular, we will look at the impact on player retention."
   ]
  },
  {
   "cell_type": "code",
   "execution_count": 1,
   "id": "b0a6e32a",
   "metadata": {},
   "outputs": [
    {
     "data": {
      "text/html": [
       "<div>\n",
       "<style scoped>\n",
       "    .dataframe tbody tr th:only-of-type {\n",
       "        vertical-align: middle;\n",
       "    }\n",
       "\n",
       "    .dataframe tbody tr th {\n",
       "        vertical-align: top;\n",
       "    }\n",
       "\n",
       "    .dataframe thead th {\n",
       "        text-align: right;\n",
       "    }\n",
       "</style>\n",
       "<table border=\"1\" class=\"dataframe\">\n",
       "  <thead>\n",
       "    <tr style=\"text-align: right;\">\n",
       "      <th></th>\n",
       "      <th>userid</th>\n",
       "      <th>version</th>\n",
       "      <th>sum_gamerounds</th>\n",
       "      <th>retention_1</th>\n",
       "      <th>retention_7</th>\n",
       "    </tr>\n",
       "  </thead>\n",
       "  <tbody>\n",
       "    <tr>\n",
       "      <th>0</th>\n",
       "      <td>116</td>\n",
       "      <td>gate_30</td>\n",
       "      <td>3</td>\n",
       "      <td>False</td>\n",
       "      <td>False</td>\n",
       "    </tr>\n",
       "    <tr>\n",
       "      <th>1</th>\n",
       "      <td>337</td>\n",
       "      <td>gate_30</td>\n",
       "      <td>38</td>\n",
       "      <td>True</td>\n",
       "      <td>False</td>\n",
       "    </tr>\n",
       "    <tr>\n",
       "      <th>2</th>\n",
       "      <td>377</td>\n",
       "      <td>gate_40</td>\n",
       "      <td>165</td>\n",
       "      <td>True</td>\n",
       "      <td>False</td>\n",
       "    </tr>\n",
       "    <tr>\n",
       "      <th>3</th>\n",
       "      <td>483</td>\n",
       "      <td>gate_40</td>\n",
       "      <td>1</td>\n",
       "      <td>False</td>\n",
       "      <td>False</td>\n",
       "    </tr>\n",
       "    <tr>\n",
       "      <th>4</th>\n",
       "      <td>488</td>\n",
       "      <td>gate_40</td>\n",
       "      <td>179</td>\n",
       "      <td>True</td>\n",
       "      <td>True</td>\n",
       "    </tr>\n",
       "  </tbody>\n",
       "</table>\n",
       "</div>"
      ],
      "text/plain": [
       "   userid  version  sum_gamerounds  retention_1  retention_7\n",
       "0     116  gate_30               3        False        False\n",
       "1     337  gate_30              38         True        False\n",
       "2     377  gate_40             165         True        False\n",
       "3     483  gate_40               1        False        False\n",
       "4     488  gate_40             179         True         True"
      ]
     },
     "execution_count": 1,
     "metadata": {},
     "output_type": "execute_result"
    }
   ],
   "source": [
    "# Importing pandas\n",
    "import pandas as pd\n",
    "\n",
    "# Reading in the data\n",
    "df = pd.read_csv('cookie_cats.csv')\n",
    "\n",
    "# Showing the first few rows\n",
    "df.head()"
   ]
  },
  {
   "attachments": {},
   "cell_type": "markdown",
   "id": "281c8497",
   "metadata": {},
   "source": [
    "## The AB-test data"
   ]
  },
  {
   "attachments": {},
   "cell_type": "markdown",
   "id": "1c31a70c",
   "metadata": {},
   "source": [
    "The data we have is from 90,189 players that installed the game while the AB-test was running.\n",
    "\n",
    "userid - a unique number that identifies each player.\n",
    "\n",
    "version- whether the player was put in the control group \n",
    "\n",
    "gate_30- a gate at level 30 (control group)\n",
    "\n",
    "gate_40 - a gate at level 40 (treatment group)\n",
    "\n",
    "sum_gamerounds - the number of game rounds played by the player during the first 14 days after install.\n",
    "\n",
    "retention_1- did the player come back and play 1 day after installing?\n",
    "\n",
    "retention_7- did the player come back and play 7 days after installing?\n",
    "\n",
    "\n",
    "When a player installed the game, he or she was randomly assigned to either gate_30 or gate_40. "
   ]
  },
  {
   "attachments": {},
   "cell_type": "markdown",
   "id": "9818b559",
   "metadata": {},
   "source": [
    "As a sanity check, let's see if there are roughly the same number of players in each AB group. </p>"
   ]
  },
  {
   "cell_type": "code",
   "execution_count": 4,
   "id": "7f1d89b0",
   "metadata": {},
   "outputs": [
    {
     "data": {
      "text/html": [
       "<div>\n",
       "<style scoped>\n",
       "    .dataframe tbody tr th:only-of-type {\n",
       "        vertical-align: middle;\n",
       "    }\n",
       "\n",
       "    .dataframe tbody tr th {\n",
       "        vertical-align: top;\n",
       "    }\n",
       "\n",
       "    .dataframe thead th {\n",
       "        text-align: right;\n",
       "    }\n",
       "</style>\n",
       "<table border=\"1\" class=\"dataframe\">\n",
       "  <thead>\n",
       "    <tr style=\"text-align: right;\">\n",
       "      <th></th>\n",
       "      <th>userid</th>\n",
       "      <th>sum_gamerounds</th>\n",
       "      <th>retention_1</th>\n",
       "      <th>retention_7</th>\n",
       "    </tr>\n",
       "    <tr>\n",
       "      <th>version</th>\n",
       "      <th></th>\n",
       "      <th></th>\n",
       "      <th></th>\n",
       "      <th></th>\n",
       "    </tr>\n",
       "  </thead>\n",
       "  <tbody>\n",
       "    <tr>\n",
       "      <th>gate_30</th>\n",
       "      <td>44700</td>\n",
       "      <td>44700</td>\n",
       "      <td>44700</td>\n",
       "      <td>44700</td>\n",
       "    </tr>\n",
       "    <tr>\n",
       "      <th>gate_40</th>\n",
       "      <td>45489</td>\n",
       "      <td>45489</td>\n",
       "      <td>45489</td>\n",
       "      <td>45489</td>\n",
       "    </tr>\n",
       "  </tbody>\n",
       "</table>\n",
       "</div>"
      ],
      "text/plain": [
       "         userid  sum_gamerounds  retention_1  retention_7\n",
       "version                                                  \n",
       "gate_30   44700           44700        44700        44700\n",
       "gate_40   45489           45489        45489        45489"
      ]
     },
     "execution_count": 4,
     "metadata": {},
     "output_type": "execute_result"
    }
   ],
   "source": [
    "# Counting the number of players in each AB group.\n",
    "df.groupby('version').count()"
   ]
  },
  {
   "attachments": {},
   "cell_type": "markdown",
   "id": "f5e1e706",
   "metadata": {},
   "source": [
    "looks like there is roughly the same number of players in each group"
   ]
  },
  {
   "attachments": {},
   "cell_type": "markdown",
   "id": "63fc5164",
   "metadata": {},
   "source": [
    "## The distribution of game rounds"
   ]
  },
  {
   "attachments": {},
   "cell_type": "markdown",
   "id": "4408bfa8",
   "metadata": {},
   "source": [
    "Now, let's plot the distribution of the number of game rounds players played during their first week playing the game."
   ]
  },
  {
   "cell_type": "code",
   "execution_count": 5,
   "id": "354b7192",
   "metadata": {},
   "outputs": [
    {
     "data": {
      "text/plain": [
       "Text(0, 0.5, 'User Count')"
      ]
     },
     "execution_count": 5,
     "metadata": {},
     "output_type": "execute_result"
    },
    {
     "data": {
      "image/png": "[encoded data removed]",
      "text/plain": [
       "<Figure size 432x288 with 1 Axes>"
      ]
     },
     "metadata": {
      "needs_background": "light"
     },
     "output_type": "display_data"
    }
   ],
   "source": [
    "# This command makes plots appear in the notebook\n",
    "%matplotlib inline\n",
    "\n",
    "# Counting the number of players for each number of gamerounds \n",
    "plot_df = df.groupby('sum_gamerounds')['userid'].count().sort_values(ascending=False)\n",
    "\n",
    "# Plotting the distribution of players that played 0 to 100 game rounds\n",
    "ax = plot_df.head(100).plot(kind='hist', x='sum_gamerounds', y='userid')\n",
    "ax.set_xlabel(\"Game Rounds\")\n",
    "ax.set_ylabel(\"User Count\")"
   ]
  },
  {
   "attachments": {},
   "cell_type": "markdown",
   "id": "8f0d7a84",
   "metadata": {},
   "source": [
    "we can see that some players install the game but then never play it (0 game rounds), some players just play a couple of game rounds in their first week, and some get really hooked. Now, lets see how the 1 day retention of these players is looking like at an overall level."
   ]
  },
  {
   "attachments": {},
   "cell_type": "markdown",
   "id": "655bb5c2",
   "metadata": {},
   "source": [
    "## Overall 1-day retention"
   ]
  },
  {
   "cell_type": "code",
   "execution_count": 6,
   "id": "422abf1c",
   "metadata": {},
   "outputs": [
    {
     "data": {
      "text/plain": [
       "0.4452095044850259"
      ]
     },
     "execution_count": 6,
     "metadata": {},
     "output_type": "execute_result"
    }
   ],
   "source": [
    "# The % of users that came back the day after they installed\n",
    "df['retention_1'].sum()/df['retention_1'].count()"
   ]
  },
  {
   "attachments": {},
   "cell_type": "markdown",
   "id": "ab5b8858",
   "metadata": {},
   "source": [
    "A little less than half of the players come back one day after installing the game. Now that we have a benchmark, let's look at how 1-day retention differs between the two AB-groups"
   ]
  },
  {
   "cell_type": "code",
   "execution_count": 7,
   "id": "5409f666",
   "metadata": {},
   "outputs": [
    {
     "data": {
      "text/plain": [
       "version\n",
       "gate_30    0.448188\n",
       "gate_40    0.442283\n",
       "Name: retention_1, dtype: float64"
      ]
     },
     "execution_count": 7,
     "metadata": {},
     "output_type": "execute_result"
    }
   ],
   "source": [
    "# Calculating 1-day retention for each AB-group\n",
    "df.groupby('version')['retention_1'].sum()/df.groupby('version')['retention_1'].count()"
   ]
  },
  {
   "attachments": {},
   "cell_type": "markdown",
   "id": "9ec397c1",
   "metadata": {},
   "source": [
    "## Confidence in the difference in 1-day retention"
   ]
  },
  {
   "attachments": {},
   "cell_type": "markdown",
   "id": "05a1bf90",
   "metadata": {},
   "source": [
    "There are a couple of ways we can get at the certainty of these retention numbers; \n",
    "\n",
    "a) Bootstrapping: where we  will repeatedly re-sample our dataset (with replacement) and calculate 1-day retention for those samples. The variation in 1-day retention will give us an indication of how uncertain the retention numbers are.\n",
    "\n",
    "b) using t test to calculate the p-value of the difference between the test and control groups for 1-day retention."
   ]
  },
  {
   "attachments": {},
   "cell_type": "markdown",
   "id": "d1d356a8",
   "metadata": {},
   "source": [
    "#### a) Bootstrapping (1 day retention)"
   ]
  },
  {
   "cell_type": "code",
   "execution_count": 9,
   "id": "0c5d28c7",
   "metadata": {},
   "outputs": [
    {
     "data": {
      "text/plain": [
       "<AxesSubplot:ylabel='Density'>"
      ]
     },
     "execution_count": 9,
     "metadata": {},
     "output_type": "execute_result"
    },
    {
     "data": {
      "image/png": "[encoded data removed]",
      "text/plain": [
       "<Figure size 432x288 with 1 Axes>"
      ]
     },
     "metadata": {
      "needs_background": "light"
     },
     "output_type": "display_data"
    }
   ],
   "source": [
    "# Creating an list with bootstrapped means for each AB-group\n",
    "boot_1d = []\n",
    "for i in range(500):\n",
    "    boot_mean = df.sample(frac=1, replace=True).groupby('version')['retention_1'].mean()\n",
    "    boot_1d.append(boot_mean)\n",
    "    \n",
    "# Transforming the list to a DataFrame\n",
    "boot_1d = pd.DataFrame(boot_1d)\n",
    "    \n",
    "# A Kernel Density Estimate plot of the bootstrap distributions\n",
    "boot_1d.plot.kde()"
   ]
  },
  {
   "attachments": {},
   "cell_type": "markdown",
   "id": "6f5d6bd1",
   "metadata": {},
   "source": [
    "These two distributions above represent the bootstrap uncertainty over what the underlying 1-day retention could be for the two AB-groups. Just eyeballing this plot, we can see that there seems to be some evidence of a difference, albeit small. Let's zoom in on the difference in 1-day retention"
   ]
  },
  {
   "cell_type": "code",
   "execution_count": 10,
   "id": "c4d43527",
   "metadata": {},
   "outputs": [
    {
     "data": {
      "text/plain": [
       "Text(0.5, 0, '% difference in means')"
      ]
     },
     "execution_count": 10,
     "metadata": {},
     "output_type": "execute_result"
    },
    {
     "data": {
      "image/png": "[encoded data removed]",
      "text/plain": [
       "<Figure size 432x288 with 1 Axes>"
      ]
     },
     "metadata": {
      "needs_background": "light"
     },
     "output_type": "display_data"
    }
   ],
   "source": [
    "# Adding a column with the % difference between the two AB-groups\n",
    "boot_1d['diff'] = (boot_1d['gate_30']-boot_1d['gate_40'])*100/boot_1d['gate_40']\n",
    "\n",
    "# Ploting the bootstrap % difference\n",
    "ax = boot_1d['diff'].plot.kde()\n",
    "ax.set_xlabel(\"% difference in means\")"
   ]
  },
  {
   "attachments": {},
   "cell_type": "markdown",
   "id": "c1f57672",
   "metadata": {},
   "source": [
    "From this chart, we can see that the most likely % difference is around 1% - 2%, and that most of the distribution is above 0%, in favor of a gate at level 30. But what is the probability that the difference is above 0%? Let's calculate that as well."
   ]
  },
  {
   "cell_type": "code",
   "execution_count": 11,
   "id": "59090442",
   "metadata": {},
   "outputs": [
    {
     "name": "stdout",
     "output_type": "stream",
     "text": [
      "96.60%\n"
     ]
    }
   ],
   "source": [
    "# Calculating the probability that 1-day retention is greater when the gate is at level 30\n",
    "prob = (boot_1d['diff'] > 0).sum()/len(boot_1d['diff']) \n",
    "\n",
    "# Pretty printing the probability\n",
    "print(\"{:.2%}\".format(prob))"
   ]
  },
  {
   "attachments": {},
   "cell_type": "markdown",
   "id": "7c387db3",
   "metadata": {},
   "source": [
    "#### b) t test (1 day retention)"
   ]
  },
  {
   "attachments": {},
   "cell_type": "markdown",
   "id": "ac25172e",
   "metadata": {},
   "source": [
    "Either of bootstrapping or t-test would also work. But here, let's confirm the above observed difference statistically using a t-test."
   ]
  },
  {
   "cell_type": "code",
   "execution_count": 12,
   "id": "b1f683fb",
   "metadata": {},
   "outputs": [],
   "source": [
    "from scipy.stats import ttest_ind"
   ]
  },
  {
   "cell_type": "code",
   "execution_count": 14,
   "id": "c7232190",
   "metadata": {},
   "outputs": [],
   "source": [
    "# Calculate t-statistic and p-value\n",
    "t_stat, p_val = ttest_ind(df[df['version'] == 'gate_30']['retention_1'],\n",
    "                          df[df['version'] == 'gate_40']['retention_1'])"
   ]
  },
  {
   "cell_type": "code",
   "execution_count": 15,
   "id": "bd8c8f93",
   "metadata": {},
   "outputs": [
    {
     "name": "stdout",
     "output_type": "stream",
     "text": [
      "t-statistic: 1.78, p-value: 0.07\n"
     ]
    }
   ],
   "source": [
    "# Print the t-statistic and p-value\n",
    "print(\"t-statistic: {:.2f}, p-value: {:.2f}\".format(t_stat, p_val))"
   ]
  },
  {
   "cell_type": "code",
   "execution_count": 16,
   "id": "875f9a12",
   "metadata": {},
   "outputs": [
    {
     "name": "stdout",
     "output_type": "stream",
     "text": [
      "There is no significant difference between the means of the two AB groups.\n"
     ]
    }
   ],
   "source": [
    "# Check if the p-value is less than 0.05 (assuming a significance level of 0.05)\n",
    "if p_val < 0.05:\n",
    "    print(\"There is a significant difference between the means of the two AB groups.\")\n",
    "else:\n",
    "    print(\"There is no significant difference between the means of the two AB groups.\")"
   ]
  },
  {
   "attachments": {},
   "cell_type": "markdown",
   "id": "ceddf1c3",
   "metadata": {},
   "source": [
    "## 7-day retention by AB-group"
   ]
  },
  {
   "attachments": {},
   "cell_type": "markdown",
   "id": "6fceef31",
   "metadata": {},
   "source": [
    "The bootstrap analysis tells us that there is a high probability that 1-day retention is better when the gate is at level 30. However, since players have only been playing the game for one day, it is likely that most players haven't reached level 30 yet. That is, many players won't have been affected by the gate, even if it's as early as level 30.\n",
    "\n",
    "But after having played for a week, more players should have reached level 40, and therefore it makes sense to also look at 7-day retention. That is: What percentage of the people that installed the game also showed up a week later to play the game again.\n",
    "\n",
    "So, let's also look at the 7 day retention rates for both test and control groups."
   ]
  },
  {
   "cell_type": "code",
   "execution_count": 17,
   "id": "b4769bf1",
   "metadata": {},
   "outputs": [
    {
     "data": {
      "text/plain": [
       "version\n",
       "gate_30    0.190201\n",
       "gate_40    0.182000\n",
       "Name: retention_7, dtype: float64"
      ]
     },
     "execution_count": 17,
     "metadata": {},
     "output_type": "execute_result"
    }
   ],
   "source": [
    "# Calculating 7-day retention for both AB-groups\n",
    "df.groupby('version')['retention_7'].sum()/df.groupby('version')['retention_7'].count()"
   ]
  },
  {
   "attachments": {},
   "cell_type": "markdown",
   "id": "bdc5d5ee",
   "metadata": {},
   "source": [
    "Even in 7-day retention gate_40 (test group) is slightly lower (18.2%) than gate_30 (19.0%). This difference is also larger than for 1-day retention, mostly because more players have had reached the first gate. \n",
    "\n",
    "Let's proceed to do the bootstrapping and t-test for 7-day retention as well."
   ]
  },
  {
   "attachments": {},
   "cell_type": "markdown",
   "id": "3452b90f",
   "metadata": {},
   "source": [
    "#### a) Bootstrapping (7 day retention)"
   ]
  },
  {
   "cell_type": "code",
   "execution_count": 18,
   "id": "aa1b7e24",
   "metadata": {},
   "outputs": [
    {
     "name": "stdout",
     "output_type": "stream",
     "text": [
      "100.00%\n"
     ]
    },
    {
     "data": {
      "image/png": "[encoded data removed]",
      "text/plain": [
       "<Figure size 432x288 with 1 Axes>"
      ]
     },
     "metadata": {
      "needs_background": "light"
     },
     "output_type": "display_data"
    }
   ],
   "source": [
    "# Creating a list with bootstrapped means for each AB-group\n",
    "boot_7d = []\n",
    "for i in range(500):\n",
    "    boot_mean = df.sample(frac=1, replace=True).groupby('version')['retention_7'].mean()\n",
    "    boot_7d.append(boot_mean)\n",
    "    \n",
    "# Transforming the list to a DataFrame\n",
    "boot_7d = pd.DataFrame(boot_7d)\n",
    "\n",
    "# Adding a column with the % difference between the two AB-groups\n",
    "boot_7d['diff'] = (boot_7d['gate_30']-boot_7d['gate_40'])*100/boot_7d['gate_40']\n",
    "\n",
    "# Ploting the bootstrap % difference\n",
    "ax = boot_7d['diff'].plot.kde()\n",
    "ax.set_xlabel(\"% difference in means\")\n",
    "\n",
    "# Calculating the probability that 7-day retention is greater when the gate is at level 30\n",
    "prob = (boot_7d['diff'] > 0).sum()/len(boot_7d['diff'])\n",
    "\n",
    "# Pretty printing the probability\n",
    "print(\"{:.2%}\".format(prob))"
   ]
  },
  {
   "attachments": {},
   "cell_type": "markdown",
   "id": "b28f1333",
   "metadata": {},
   "source": [
    "#### b) t test (7 day retention)"
   ]
  },
  {
   "cell_type": "code",
   "execution_count": 19,
   "id": "3b499970",
   "metadata": {},
   "outputs": [],
   "source": [
    "# Calculate t-statistic and p-value\n",
    "t_stat, p_val = ttest_ind(df[df['version'] == 'gate_30']['retention_7'],\n",
    "                          df[df['version'] == 'gate_40']['retention_7'])"
   ]
  },
  {
   "cell_type": "code",
   "execution_count": 20,
   "id": "277aa2db",
   "metadata": {},
   "outputs": [
    {
     "name": "stdout",
     "output_type": "stream",
     "text": [
      "t-statistic: 3.16, p-value: 0.00\n"
     ]
    }
   ],
   "source": [
    "# Print the t-statistic and p-value\n",
    "print(\"t-statistic: {:.2f}, p-value: {:.2f}\".format(t_stat, p_val))"
   ]
  },
  {
   "cell_type": "code",
   "execution_count": 21,
   "id": "360e55cd",
   "metadata": {},
   "outputs": [
    {
     "name": "stdout",
     "output_type": "stream",
     "text": [
      "There is a significant difference between the means of the two AB groups.\n"
     ]
    }
   ],
   "source": [
    "# Check if the p-value is less than 0.05 (assuming a significance level of 0.05)\n",
    "if p_val < 0.05:\n",
    "    print(\"There is a significant difference between the means of the two AB groups.\")\n",
    "else:\n",
    "    print(\"There is no significant difference between the means of the two AB groups.\")"
   ]
  },
  {
   "attachments": {},
   "cell_type": "markdown",
   "id": "6c778ff9",
   "metadata": {},
   "source": [
    "## Conclusion"
   ]
  },
  {
   "attachments": {},
   "cell_type": "markdown",
   "id": "cd19900a",
   "metadata": {},
   "source": [
    "The AB-test shows that the gate at level 40 is slightly worse than the gate at level 30. This is true for both 1-day and 7-day retention. The difference is small, but statistically significant and also this difference in reality is considerable. But the results are only conclusive if the A/B test was run correctly accounting for all the confounding factors.\n",
    "\n",
    "One more thing to note is that the retention rate for 7 day retention is higher than 1 day retention. This could be  because the 7 day retention is calculated for players who have played the game for at least 1 day. So, the 7 day retention is a subset of 1 day retention. One more reason for this could also be the hedonic adaptation which is the tendency for people to get less and less enjoyment out of a fun activity over time if that activity is undertaken continuously. By forcing players to take a break when they reach a gate, their enjoyment of the game is prolonged. But when the gate is moved to level 40, fewer players make it far enough, and they are more likely to quit the game because they simply got bored of it."
   ]
  }
 ],
 "metadata": {
  "kernelspec": {
   "display_name": "Python 3 (ipykernel)",
   "language": "python",
   "name": "python3"
  },
  "language_info": {
   "codemirror_mode": {
    "name": "ipython",
    "version": 3
   },
   "file_extension": ".py",
   "mimetype": "text/x-python",
   "name": "python",
   "nbconvert_exporter": "python",
   "pygments_lexer": "ipython3",
   "version": "3.9.12"
  }
 },
 "nbformat": 4,
 "nbformat_minor": 5
}
