{
 "cells": [
  {
   "cell_type": "code",
   "execution_count": 72,
   "metadata": {
    "colab": {
     "base_uri": "https://localhost:8080/",
     "height": 374
    },
    "executionInfo": {
     "elapsed": 26939,
     "status": "error",
     "timestamp": 1677050091622,
     "user": {
      "displayName": "pradeepthi mallappa",
      "userId": "10327419075559480673"
     },
     "user_tz": 480
    },
    "id": "zfPilZ35d7oc",
    "outputId": "c7210979-2a98-41c3-cacf-0e863b218e2c"
   },
   "outputs": [],
   "source": [
    "import pandas as pd\n",
    "import numpy as np\n",
    "import random as rn\n",
    "import math\n",
    "from datetime import date\n",
    "from dateutil.relativedelta import relativedelta\n",
    "import numpy as np\n",
    "import seaborn as sns\n",
    "import matplotlib.pyplot as plt\n",
    "import time\n",
    "import gc \n",
    "import json\n",
    "plt.style.use('seaborn')"
   ]
  },
  {
   "cell_type": "code",
   "execution_count": 73,
   "metadata": {
    "id": "7Q-2mVtq7qQb"
   },
   "outputs": [],
   "source": [
    "#Loading the JSON data\n",
    "data = pd.read_json('PA_test_data.json')"
   ]
  },
  {
   "cell_type": "markdown",
   "metadata": {
    "id": "ZHcGh6z6R2qL"
   },
   "source": [
    "**This notebook has been divided into sections to easily navigate and understand workings**"
   ]
  },
  {
   "cell_type": "markdown",
   "metadata": {
    "id": "eOM3WUc8Ob0h"
   },
   "source": [
    "# **Section 1: Understanding data**"
   ]
  },
  {
   "cell_type": "code",
   "execution_count": 74,
   "metadata": {
    "colab": {
     "base_uri": "https://localhost:8080/"
    },
    "id": "zk8EC_IS78B_",
    "outputId": "74d6561b-4bcb-49e5-bbb5-56e621a5bd2e"
   },
   "outputs": [
    {
     "data": {
      "text/plain": [
       "pandas.core.frame.DataFrame"
      ]
     },
     "execution_count": 74,
     "metadata": {},
     "output_type": "execute_result"
    }
   ],
   "source": [
    "type(data)"
   ]
  },
  {
   "cell_type": "code",
   "execution_count": 75,
   "metadata": {
    "id": "_JnCFdyC8Is2"
   },
   "outputs": [],
   "source": [
    "#Converting JSON to pandas df\n",
    "df = pd.DataFrame(data)"
   ]
  },
  {
   "cell_type": "code",
   "execution_count": 76,
   "metadata": {
    "colab": {
     "base_uri": "https://localhost:8080/",
     "height": 377
    },
    "id": "2yb1OOdB8awJ",
    "outputId": "c7aad666-d563-41a9-f7ca-d100d4451481"
   },
   "outputs": [
    {
     "data": {
      "text/html": [
       "<div>\n",
       "<style scoped>\n",
       "    .dataframe tbody tr th:only-of-type {\n",
       "        vertical-align: middle;\n",
       "    }\n",
       "\n",
       "    .dataframe tbody tr th {\n",
       "        vertical-align: top;\n",
       "    }\n",
       "\n",
       "    .dataframe thead th {\n",
       "        text-align: right;\n",
       "    }\n",
       "</style>\n",
       "<table border=\"1\" class=\"dataframe\">\n",
       "  <thead>\n",
       "    <tr style=\"text-align: right;\">\n",
       "      <th></th>\n",
       "      <th>ctype</th>\n",
       "      <th>cid</th>\n",
       "      <th>delivery_type</th>\n",
       "      <th>sherpa_flag</th>\n",
       "      <th>target_segment</th>\n",
       "      <th>ttl</th>\n",
       "      <th>date</th>\n",
       "      <th>sent</th>\n",
       "      <th>impressions</th>\n",
       "      <th>paplus_sent</th>\n",
       "      <th>imp</th>\n",
       "      <th>app_name</th>\n",
       "      <th>chk_flag</th>\n",
       "    </tr>\n",
       "  </thead>\n",
       "  <tbody>\n",
       "    <tr>\n",
       "      <th>1</th>\n",
       "      <td>TXN API Push</td>\n",
       "      <td>5f76dca5d69d380756710da6</td>\n",
       "      <td>later</td>\n",
       "      <td>SMV</td>\n",
       "      <td>custom_segment</td>\n",
       "      <td>43200</td>\n",
       "      <td>2020-11-11</td>\n",
       "      <td>0</td>\n",
       "      <td>6</td>\n",
       "      <td>0</td>\n",
       "      <td>0</td>\n",
       "      <td>Songswala</td>\n",
       "      <td>6</td>\n",
       "    </tr>\n",
       "    <tr>\n",
       "      <th>2</th>\n",
       "      <td>TXN API Push</td>\n",
       "      <td>5d95c4c4287853101776a97a</td>\n",
       "      <td>soon</td>\n",
       "      <td>SMV</td>\n",
       "      <td>User</td>\n",
       "      <td>43200</td>\n",
       "      <td>2020-11-15</td>\n",
       "      <td>77993</td>\n",
       "      <td>70934</td>\n",
       "      <td>0</td>\n",
       "      <td>0</td>\n",
       "      <td>Sabziwala</td>\n",
       "      <td>148927</td>\n",
       "    </tr>\n",
       "    <tr>\n",
       "      <th>3</th>\n",
       "      <td>ST Push</td>\n",
       "      <td>5e8b11e4e3ca782085182ce1</td>\n",
       "      <td>later</td>\n",
       "      <td>0</td>\n",
       "      <td>custom_filters</td>\n",
       "      <td>21600</td>\n",
       "      <td>2020-11-12</td>\n",
       "      <td>3344</td>\n",
       "      <td>2457</td>\n",
       "      <td>0</td>\n",
       "      <td>0</td>\n",
       "      <td>TVwala</td>\n",
       "      <td>5801</td>\n",
       "    </tr>\n",
       "    <tr>\n",
       "      <th>6</th>\n",
       "      <td>TXN API Push</td>\n",
       "      <td>5fc17fda119bd90684d75d03</td>\n",
       "      <td>soon</td>\n",
       "      <td>SMV</td>\n",
       "      <td>User</td>\n",
       "      <td>43200</td>\n",
       "      <td>2020-11-27</td>\n",
       "      <td>2</td>\n",
       "      <td>1</td>\n",
       "      <td>0</td>\n",
       "      <td>0</td>\n",
       "      <td>Armwala</td>\n",
       "      <td>3</td>\n",
       "    </tr>\n",
       "    <tr>\n",
       "      <th>7</th>\n",
       "      <td>TXN API Push</td>\n",
       "      <td>5ed0e1dba161e50754b65400</td>\n",
       "      <td>soon</td>\n",
       "      <td>SMV</td>\n",
       "      <td>User</td>\n",
       "      <td>129600</td>\n",
       "      <td>2020-11-07</td>\n",
       "      <td>0</td>\n",
       "      <td>1</td>\n",
       "      <td>0</td>\n",
       "      <td>0</td>\n",
       "      <td>TVwala</td>\n",
       "      <td>1</td>\n",
       "    </tr>\n",
       "  </tbody>\n",
       "</table>\n",
       "</div>"
      ],
      "text/plain": [
       "          ctype                       cid delivery_type sherpa_flag  \\\n",
       "1  TXN API Push  5f76dca5d69d380756710da6         later         SMV   \n",
       "2  TXN API Push  5d95c4c4287853101776a97a          soon         SMV   \n",
       "3       ST Push  5e8b11e4e3ca782085182ce1         later           0   \n",
       "6  TXN API Push  5fc17fda119bd90684d75d03          soon         SMV   \n",
       "7  TXN API Push  5ed0e1dba161e50754b65400          soon         SMV   \n",
       "\n",
       "   target_segment     ttl       date   sent  impressions  paplus_sent  imp  \\\n",
       "1  custom_segment   43200 2020-11-11      0            6            0    0   \n",
       "2            User   43200 2020-11-15  77993        70934            0    0   \n",
       "3  custom_filters   21600 2020-11-12   3344         2457            0    0   \n",
       "6            User   43200 2020-11-27      2            1            0    0   \n",
       "7            User  129600 2020-11-07      0            1            0    0   \n",
       "\n",
       "    app_name  chk_flag  \n",
       "1  Songswala         6  \n",
       "2  Sabziwala    148927  \n",
       "3     TVwala      5801  \n",
       "6    Armwala         3  \n",
       "7     TVwala         1  "
      ]
     },
     "execution_count": 76,
     "metadata": {},
     "output_type": "execute_result"
    }
   ],
   "source": [
    "df.head(5)"
   ]
  },
  {
   "cell_type": "code",
   "execution_count": 77,
   "metadata": {
    "colab": {
     "base_uri": "https://localhost:8080/"
    },
    "id": "IGXwtBJ68fDW",
    "outputId": "1af2cb7a-c0d4-4193-928d-dd38225932b8"
   },
   "outputs": [
    {
     "name": "stdout",
     "output_type": "stream",
     "text": [
      "106699\n",
      "(106699, 13)\n",
      "ctype                     object\n",
      "cid                       object\n",
      "delivery_type             object\n",
      "sherpa_flag               object\n",
      "target_segment            object\n",
      "ttl                        int64\n",
      "date              datetime64[ns]\n",
      "sent                       int64\n",
      "impressions                int64\n",
      "paplus_sent                int64\n",
      "imp                        int64\n",
      "app_name                  object\n",
      "chk_flag                   int64\n",
      "dtype: object\n"
     ]
    }
   ],
   "source": [
    "#Understanding the shape of data\n",
    "print(len(df))\n",
    "print(df.shape)\n",
    "print(df.dtypes)"
   ]
  },
  {
   "cell_type": "code",
   "execution_count": 78,
   "metadata": {
    "colab": {
     "base_uri": "https://localhost:8080/"
    },
    "id": "9Xa4aX_68mN7",
    "outputId": "d2f1c899-d17b-417e-82bd-54ea0d882689"
   },
   "outputs": [
    {
     "data": {
      "text/plain": [
       "ctype             0\n",
       "cid               0\n",
       "delivery_type     0\n",
       "sherpa_flag       0\n",
       "target_segment    0\n",
       "ttl               0\n",
       "date              0\n",
       "sent              0\n",
       "impressions       0\n",
       "paplus_sent       0\n",
       "imp               0\n",
       "app_name          0\n",
       "chk_flag          0\n",
       "dtype: int64"
      ]
     },
     "execution_count": 78,
     "metadata": {},
     "output_type": "execute_result"
    }
   ],
   "source": [
    "#Checking for Nulls in data\n",
    "df.isnull().sum()"
   ]
  },
  {
   "cell_type": "markdown",
   "metadata": {},
   "source": [
    "No Nulls in the data"
   ]
  },
  {
   "cell_type": "code",
   "execution_count": 79,
   "metadata": {
    "colab": {
     "base_uri": "https://localhost:8080/",
     "height": 297
    },
    "id": "TNxCzPUo8645",
    "outputId": "cc5e34be-0e1d-43ca-8851-85002b306f39"
   },
   "outputs": [
    {
     "data": {
      "text/html": [
       "<div>\n",
       "<style scoped>\n",
       "    .dataframe tbody tr th:only-of-type {\n",
       "        vertical-align: middle;\n",
       "    }\n",
       "\n",
       "    .dataframe tbody tr th {\n",
       "        vertical-align: top;\n",
       "    }\n",
       "\n",
       "    .dataframe thead th {\n",
       "        text-align: right;\n",
       "    }\n",
       "</style>\n",
       "<table border=\"1\" class=\"dataframe\">\n",
       "  <thead>\n",
       "    <tr style=\"text-align: right;\">\n",
       "      <th></th>\n",
       "      <th>ttl</th>\n",
       "      <th>sent</th>\n",
       "      <th>impressions</th>\n",
       "      <th>paplus_sent</th>\n",
       "      <th>imp</th>\n",
       "      <th>chk_flag</th>\n",
       "    </tr>\n",
       "  </thead>\n",
       "  <tbody>\n",
       "    <tr>\n",
       "      <th>count</th>\n",
       "      <td>1.066990e+05</td>\n",
       "      <td>1.066990e+05</td>\n",
       "      <td>1.066990e+05</td>\n",
       "      <td>1.066990e+05</td>\n",
       "      <td>1.066990e+05</td>\n",
       "      <td>1.066990e+05</td>\n",
       "    </tr>\n",
       "    <tr>\n",
       "      <th>mean</th>\n",
       "      <td>1.055786e+05</td>\n",
       "      <td>1.158431e+05</td>\n",
       "      <td>5.284458e+04</td>\n",
       "      <td>4.910934e+03</td>\n",
       "      <td>3.628217e+03</td>\n",
       "      <td>1.686877e+05</td>\n",
       "    </tr>\n",
       "    <tr>\n",
       "      <th>std</th>\n",
       "      <td>5.065333e+04</td>\n",
       "      <td>1.311482e+06</td>\n",
       "      <td>5.400473e+05</td>\n",
       "      <td>9.055159e+04</td>\n",
       "      <td>6.527142e+04</td>\n",
       "      <td>1.829556e+06</td>\n",
       "    </tr>\n",
       "    <tr>\n",
       "      <th>min</th>\n",
       "      <td>0.000000e+00</td>\n",
       "      <td>0.000000e+00</td>\n",
       "      <td>0.000000e+00</td>\n",
       "      <td>0.000000e+00</td>\n",
       "      <td>0.000000e+00</td>\n",
       "      <td>1.000000e+00</td>\n",
       "    </tr>\n",
       "    <tr>\n",
       "      <th>25%</th>\n",
       "      <td>4.320000e+04</td>\n",
       "      <td>0.000000e+00</td>\n",
       "      <td>1.000000e+00</td>\n",
       "      <td>0.000000e+00</td>\n",
       "      <td>0.000000e+00</td>\n",
       "      <td>2.000000e+00</td>\n",
       "    </tr>\n",
       "    <tr>\n",
       "      <th>50%</th>\n",
       "      <td>1.296000e+05</td>\n",
       "      <td>0.000000e+00</td>\n",
       "      <td>7.000000e+00</td>\n",
       "      <td>0.000000e+00</td>\n",
       "      <td>0.000000e+00</td>\n",
       "      <td>9.000000e+00</td>\n",
       "    </tr>\n",
       "    <tr>\n",
       "      <th>75%</th>\n",
       "      <td>1.296000e+05</td>\n",
       "      <td>1.186500e+03</td>\n",
       "      <td>6.630000e+02</td>\n",
       "      <td>0.000000e+00</td>\n",
       "      <td>0.000000e+00</td>\n",
       "      <td>1.987000e+03</td>\n",
       "    </tr>\n",
       "    <tr>\n",
       "      <th>max</th>\n",
       "      <td>1.800000e+06</td>\n",
       "      <td>7.495949e+07</td>\n",
       "      <td>2.603849e+07</td>\n",
       "      <td>4.658017e+06</td>\n",
       "      <td>3.339745e+06</td>\n",
       "      <td>9.682679e+07</td>\n",
       "    </tr>\n",
       "  </tbody>\n",
       "</table>\n",
       "</div>"
      ],
      "text/plain": [
       "                ttl          sent   impressions   paplus_sent           imp  \\\n",
       "count  1.066990e+05  1.066990e+05  1.066990e+05  1.066990e+05  1.066990e+05   \n",
       "mean   1.055786e+05  1.158431e+05  5.284458e+04  4.910934e+03  3.628217e+03   \n",
       "std    5.065333e+04  1.311482e+06  5.400473e+05  9.055159e+04  6.527142e+04   \n",
       "min    0.000000e+00  0.000000e+00  0.000000e+00  0.000000e+00  0.000000e+00   \n",
       "25%    4.320000e+04  0.000000e+00  1.000000e+00  0.000000e+00  0.000000e+00   \n",
       "50%    1.296000e+05  0.000000e+00  7.000000e+00  0.000000e+00  0.000000e+00   \n",
       "75%    1.296000e+05  1.186500e+03  6.630000e+02  0.000000e+00  0.000000e+00   \n",
       "max    1.800000e+06  7.495949e+07  2.603849e+07  4.658017e+06  3.339745e+06   \n",
       "\n",
       "           chk_flag  \n",
       "count  1.066990e+05  \n",
       "mean   1.686877e+05  \n",
       "std    1.829556e+06  \n",
       "min    1.000000e+00  \n",
       "25%    2.000000e+00  \n",
       "50%    9.000000e+00  \n",
       "75%    1.987000e+03  \n",
       "max    9.682679e+07  "
      ]
     },
     "execution_count": 79,
     "metadata": {},
     "output_type": "execute_result"
    }
   ],
   "source": [
    "#overall distribution of numeric variables\n",
    "df.describe()"
   ]
  },
  {
   "cell_type": "code",
   "execution_count": 80,
   "metadata": {
    "colab": {
     "base_uri": "https://localhost:8080/"
    },
    "id": "BZBc0f-UDqX7",
    "outputId": "1b40a64f-1cce-41fd-9c28-84e5cd1a5211"
   },
   "outputs": [
    {
     "name": "stdout",
     "output_type": "stream",
     "text": [
      "ctype                     object\n",
      "cid                       object\n",
      "delivery_type             object\n",
      "sherpa_flag               object\n",
      "target_segment            object\n",
      "ttl                        int64\n",
      "date              datetime64[ns]\n",
      "sent                       int64\n",
      "impressions                int64\n",
      "paplus_sent                int64\n",
      "imp                        int64\n",
      "app_name                  object\n",
      "chk_flag                   int64\n",
      "dtype: object\n"
     ]
    }
   ],
   "source": [
    "# Data types\n",
    "print(df.dtypes)"
   ]
  },
  {
   "cell_type": "code",
   "execution_count": 81,
   "metadata": {
    "colab": {
     "base_uri": "https://localhost:8080/"
    },
    "id": "AgBLTAH89Vuj",
    "outputId": "ab8a0ddb-1368-4978-895d-67f49854f7aa"
   },
   "outputs": [
    {
     "data": {
      "text/plain": [
       "array(['Songswala', 'Sabziwala', 'TVwala', 'Armwala', 'Gharwala',\n",
       "       'Phonewala', 'Clothwala', 'Blimoetest', 'Gharwala_2', 'ABC_Prod',\n",
       "       'Set_IND', 'Wholesale_prod', 'babywala', 'Dailyprod', 'Malay_prod',\n",
       "       'UAE_Prod', 'MyTestmoetest', 'Life_IND', 'Daily2_production',\n",
       "       'Life_max', 'TripTest', 'Book_test', 'Style_IND', 'Scooterportal',\n",
       "       'Fashion4prod', 'MMS', 'paintIND', 'ShoesKUL', 'RVAPROD',\n",
       "       'LeranNow', 'Moviesmoetest', 'BitcoinCX', 'ClientDemomoetest',\n",
       "       'GoldProduction', 'dev_solmoetest', 'chopcutsmoetest',\n",
       "       'ChampionProd', 'rentalmoetest', 'id_dealers', 'nineten_ind',\n",
       "       'astro_hindi', 'apmcprod', 'box_prod', 'MoEngageDemoAppMoeTest',\n",
       "       'Benganmoetest', 'DemoAppmoetest', 'scootersPROD', 'voxboxmoetest',\n",
       "       'uae_cluster_uat', 'mensblogmoetest', 'open_mindapp', 'bikebuddy',\n",
       "       'doorsmoetest', 'delivery_ecommoetest', 'biggerprod',\n",
       "       'grocery_moetest', 'dokterkonsult'], dtype=object)"
      ]
     },
     "execution_count": 81,
     "metadata": {},
     "output_type": "execute_result"
    }
   ],
   "source": [
    "#Unique App Names\n",
    "df['app_name'].unique()"
   ]
  },
  {
   "cell_type": "code",
   "execution_count": 82,
   "metadata": {
    "colab": {
     "base_uri": "https://localhost:8080/"
    },
    "id": "I_0cTC7sGCy3",
    "outputId": "ec3dc03b-24f7-462e-ddfa-27f5edee58ec"
   },
   "outputs": [
    {
     "data": {
      "text/plain": [
       "array(['SMV', 0, 'DMV'], dtype=object)"
      ]
     },
     "execution_count": 82,
     "metadata": {},
     "output_type": "execute_result"
    }
   ],
   "source": [
    "#sherpa flag uniques\n",
    "df['sherpa_flag'].unique()"
   ]
  },
  {
   "cell_type": "code",
   "execution_count": 83,
   "metadata": {
    "colab": {
     "base_uri": "https://localhost:8080/"
    },
    "id": "rYRBhyZ-Qnf5",
    "outputId": "f234ee9e-d147-4b8c-dda6-6b6dbc93830d"
   },
   "outputs": [
    {
     "data": {
      "text/plain": [
       "array(['later', 'soon', 'periodic', 0], dtype=object)"
      ]
     },
     "execution_count": 83,
     "metadata": {},
     "output_type": "execute_result"
    }
   ],
   "source": [
    "#delivery type uniques\n",
    "df['delivery_type'].unique()"
   ]
  },
  {
   "cell_type": "code",
   "execution_count": 84,
   "metadata": {
    "colab": {
     "base_uri": "https://localhost:8080/"
    },
    "id": "RCzXdr1YQuGe",
    "outputId": "f2a7380d-96aa-4e12-9264-9a065c4f021f"
   },
   "outputs": [
    {
     "data": {
      "text/plain": [
       "array(['custom_segment', 'User', 'custom_filters', 'allusers'],\n",
       "      dtype=object)"
      ]
     },
     "execution_count": 84,
     "metadata": {},
     "output_type": "execute_result"
    }
   ],
   "source": [
    "#target_segment uniques\n",
    "df['target_segment'].unique()"
   ]
  },
  {
   "cell_type": "markdown",
   "metadata": {
    "id": "R66OY36YOnsN"
   },
   "source": [
    "# Section 2 : EDA\n",
    "\n",
    "\n",
    "\n",
    "\n",
    "\n"
   ]
  },
  {
   "cell_type": "markdown",
   "metadata": {},
   "source": [
    "### What are the factors effecting the advertising and marketing campaigns?"
   ]
  },
  {
   "cell_type": "markdown",
   "metadata": {
    "id": "TAOXHY0yOxoJ"
   },
   "source": [
    "#### a. TVwala ,Phonewala,Songswala are the dominant apps"
   ]
  },
  {
   "cell_type": "code",
   "execution_count": 85,
   "metadata": {
    "colab": {
     "base_uri": "https://localhost:8080/",
     "height": 1000
    },
    "id": "m4PPQ-5F-5Vr",
    "outputId": "6cf5cff4-e853-472c-97b5-1316b6898d4c"
   },
   "outputs": [
    {
     "name": "stdout",
     "output_type": "stream",
     "text": [
      "                        count  uniquecampaigns\n",
      "app_name                                      \n",
      "TVwala                  32873             9432\n",
      "Phonewala               27904             4601\n",
      "Songswala               15101             2706\n",
      "Malay_prod               6394             1527\n",
      "Armwala                  6324             6038\n",
      "Sabziwala                2167              383\n",
      "Clothwala                1531              957\n",
      "Gharwala                 1252              587\n",
      "Wholesale_prod           1207              168\n",
      "Daily2_production        1065              534\n",
      "UAE_Prod                  889              482\n",
      "Life_max                  824              659\n",
      "TripTest                  822              103\n",
      "paintIND                  806              587\n",
      "babywala                  802              428\n",
      "ABC_Prod                  782              390\n",
      "Scooterportal             748               35\n",
      "Gharwala_2                740               95\n",
      "Style_IND                 592              484\n",
      "Dailyprod                 557              200\n",
      "Life_IND                  534              220\n",
      "ShoesKUL                  412              192\n",
      "Set_IND                   318              145\n",
      "LeranNow                  266              245\n",
      "Book_test                 173               10\n",
      "BitcoinCX                 170               51\n",
      "id_dealers                167              167\n",
      "apmcprod                  143                6\n",
      "nineten_ind               127              127\n",
      "RVAPROD                    86                4\n",
      "MMS                        85               32\n",
      "Fashion4prod               85               39\n",
      "astro_hindi                82               40\n",
      "scootersPROD               60                2\n",
      "GoldProduction             55               55\n",
      "MyTestmoetest              52                7\n",
      "Blimoetest                 47                6\n",
      "chopcutsmoetest            46               13\n",
      "uae_cluster_uat            45               45\n",
      "Moviesmoetest              45               42\n",
      "box_prod                   45               45\n",
      "MoEngageDemoAppMoeTest     44                5\n",
      "rentalmoetest              34                2\n",
      "DemoAppmoetest             32               31\n",
      "ChampionProd               30               30\n",
      "Benganmoetest              29               29\n",
      "voxboxmoetest              29               29\n",
      "ClientDemomoetest          25               25\n",
      "mensblogmoetest            17               17\n",
      "dev_solmoetest              9                1\n",
      "delivery_ecommoetest        7                1\n",
      "doorsmoetest                6                1\n",
      "open_mindapp                4                4\n",
      "bikebuddy                   4                4\n",
      "grocery_moetest             3                1\n",
      "dokterkonsult               2                2\n",
      "biggerprod                  1                1\n"
     ]
    },
    {
     "data": {
      "text/plain": [
       "<AxesSubplot:xlabel='app_name'>"
      ]
     },
     "execution_count": 85,
     "metadata": {},
     "output_type": "execute_result"
    },
    {
     "data": {
      "image/png": "[encoded data removed]",
      "text/plain": [
       "<Figure size 576x396 with 1 Axes>"
      ]
     },
     "metadata": {},
     "output_type": "display_data"
    }
   ],
   "source": [
    "#App\n",
    "res = df.groupby('app_name').agg(count=pd.NamedAgg(column='app_name', aggfunc='count'),\n",
    "    uniquecampaigns=pd.NamedAgg(column='cid', aggfunc='nunique')\n",
    "    ).sort_values('count',ascending=False)\n",
    "print(res)\n",
    "res.plot(kind='bar' )"
   ]
  },
  {
   "cell_type": "markdown",
   "metadata": {
    "id": "oNzsD3LqONIR"
   },
   "source": [
    "\n",
    "#### b. \"Later\" and \"Soon\" are the 2 major delivery types. That is, majority of campaigns are either sent as soon as campaign is created or later for future*"
   ]
  },
  {
   "cell_type": "code",
   "execution_count": 86,
   "metadata": {
    "cellView": "code",
    "colab": {
     "base_uri": "https://localhost:8080/",
     "height": 424
    },
    "id": "MxA8ZP4hVNyI",
    "outputId": "28851b51-2ed4-4cfc-e7f5-362b37616e1b"
   },
   "outputs": [
    {
     "name": "stdout",
     "output_type": "stream",
     "text": [
      "               count  uniquecampaigns\n",
      "delivery_type                        \n",
      "later          58136            10558\n",
      "soon           43610            16563\n",
      "periodic        4945             4945\n",
      "0                  8                6\n"
     ]
    },
    {
     "data": {
      "text/plain": [
       "<AxesSubplot:xlabel='delivery_type'>"
      ]
     },
     "execution_count": 86,
     "metadata": {},
     "output_type": "execute_result"
    },
    {
     "data": {
      "image/png": "[encoded data removed]",
      "text/plain": [
       "<Figure size 576x396 with 1 Axes>"
      ]
     },
     "metadata": {},
     "output_type": "display_data"
    }
   ],
   "source": [
    "#Delivery type\n",
    "res = df.groupby('delivery_type').agg(count=pd.NamedAgg(column='app_name', aggfunc='count'),\n",
    "    uniquecampaigns=pd.NamedAgg(column='cid', aggfunc='nunique')\n",
    "    ).sort_values('count',ascending=False)\n",
    "print(res)\n",
    "res.plot(kind='bar' )"
   ]
  },
  {
   "cell_type": "markdown",
   "metadata": {
    "id": "nJ3QBQpHPM7n"
   },
   "source": [
    " #### c. Majority of campaigns are run on static AB configuration\n"
   ]
  },
  {
   "cell_type": "code",
   "execution_count": 87,
   "metadata": {
    "colab": {
     "base_uri": "https://localhost:8080/",
     "height": 396
    },
    "id": "l65oc_inSOUu",
    "outputId": "b8617b89-ff0a-41c3-c770-023b8092cceb"
   },
   "outputs": [
    {
     "name": "stdout",
     "output_type": "stream",
     "text": [
      "             count  uniquecampaigns\n",
      "sherpa_flag                        \n",
      "SMV          57542            16776\n",
      "0            33454            11654\n",
      "DMV          15703             3642\n"
     ]
    },
    {
     "data": {
      "text/plain": [
       "<AxesSubplot:xlabel='sherpa_flag'>"
      ]
     },
     "execution_count": 87,
     "metadata": {},
     "output_type": "execute_result"
    },
    {
     "data": {
      "image/png": "[encoded data removed]",
      "text/plain": [
       "<Figure size 576x396 with 1 Axes>"
      ]
     },
     "metadata": {},
     "output_type": "display_data"
    }
   ],
   "source": [
    "#Sherpa_flag\n",
    "res = df.groupby('sherpa_flag').agg(count=pd.NamedAgg(column='app_name', aggfunc='count'),\n",
    "    uniquecampaigns=pd.NamedAgg(column='cid', aggfunc='nunique')\n",
    "    ).sort_values('count',ascending=False)\n",
    "print(res)\n",
    "res.plot(kind='bar' )"
   ]
  },
  {
   "cell_type": "markdown",
   "metadata": {
    "id": "wvQmF3bYPQeh"
   },
   "source": [
    "#### d. Majority of unique campaigns are TXN API push or general push"
   ]
  },
  {
   "cell_type": "code",
   "execution_count": 88,
   "metadata": {
    "colab": {
     "base_uri": "https://localhost:8080/",
     "height": 485
    },
    "id": "GzbBqh5tVi4K",
    "outputId": "58a848eb-f088-42ea-fea7-0057eb8b8483"
   },
   "outputs": [
    {
     "name": "stdout",
     "output_type": "stream",
     "text": [
      "                  count  uniquecampaigns\n",
      "ctype                                   \n",
      "TXN API Push      53918            16346\n",
      "ST Push           39191             2186\n",
      "General Push      13534            13534\n",
      "Geo-fencing Push     44                4\n",
      "RT Push              12                2\n"
     ]
    },
    {
     "data": {
      "text/plain": [
       "<AxesSubplot:xlabel='ctype'>"
      ]
     },
     "execution_count": 88,
     "metadata": {},
     "output_type": "execute_result"
    },
    {
     "data": {
      "image/png": "[encoded data removed]",
      "text/plain": [
       "<Figure size 576x396 with 1 Axes>"
      ]
     },
     "metadata": {},
     "output_type": "display_data"
    }
   ],
   "source": [
    "#campaign type\n",
    "res = df.groupby('ctype').agg(count=pd.NamedAgg(column='app_name', aggfunc='count'),\n",
    "    uniquecampaigns=pd.NamedAgg(column='cid', aggfunc='nunique')\n",
    "    ).sort_values('count',ascending=False)\n",
    "print(res)\n",
    "res.plot(kind='bar' )"
   ]
  },
  {
   "cell_type": "markdown",
   "metadata": {
    "id": "enBzcWiCPTwU"
   },
   "source": [
    "#### e. Majority of unique campaigns are targetted towards all users or custom filtered users"
   ]
  },
  {
   "cell_type": "code",
   "execution_count": 89,
   "metadata": {
    "colab": {
     "base_uri": "https://localhost:8080/",
     "height": 464
    },
    "id": "bL9EGyXyWFvq",
    "outputId": "f0746122-f3c7-4baf-d2e9-abe9ebd72dc9"
   },
   "outputs": [
    {
     "name": "stdout",
     "output_type": "stream",
     "text": [
      "                count  uniquecampaigns\n",
      "target_segment                        \n",
      "User            39841            15460\n",
      "allusers        28448             2398\n",
      "custom_filters  24410            13402\n",
      "custom_segment  14000              812\n"
     ]
    },
    {
     "data": {
      "text/plain": [
       "<AxesSubplot:xlabel='target_segment'>"
      ]
     },
     "execution_count": 89,
     "metadata": {},
     "output_type": "execute_result"
    },
    {
     "data": {
      "image/png": "[encoded data removed]",
      "text/plain": [
       "<Figure size 576x396 with 1 Axes>"
      ]
     },
     "metadata": {},
     "output_type": "display_data"
    }
   ],
   "source": [
    "#target_segment\n",
    "# Majority of unique campaigns are targetted towards all users or custom filtered users\n",
    "res = df.groupby('target_segment').agg(count=pd.NamedAgg(column='app_name', aggfunc='count'),\n",
    "    uniquecampaigns=pd.NamedAgg(column='cid', aggfunc='nunique')\n",
    "    ).sort_values('count',ascending=False)\n",
    "print(res)\n",
    "res.plot(kind='bar' )"
   ]
  },
  {
   "cell_type": "markdown",
   "metadata": {
    "id": "vaVhLNA0PWWD"
   },
   "source": [
    "#### f. Most campaigns have TTL as 129600.0 or 43200.0"
   ]
  },
  {
   "cell_type": "code",
   "execution_count": 90,
   "metadata": {
    "colab": {
     "base_uri": "https://localhost:8080/",
     "height": 1000
    },
    "id": "QJg1ITKbZBSk",
    "outputId": "bf1e3cdb-bb64-44bc-8f45-7ddf2e2f80a9"
   },
   "outputs": [
    {
     "name": "stdout",
     "output_type": "stream",
     "text": [
      "         count  uniquecampaigns\n",
      "ttl                            \n",
      "1800000     30                1\n",
      "864000       4                1\n",
      "518400      24               24\n",
      "356400      17               17\n",
      "259200      34                2\n",
      "172800     619              149\n",
      "129600   75737            20325\n",
      "126000       3                3\n",
      "108000       6                6\n",
      "100800       3                1\n",
      "86400     2399              659\n",
      "72000       22                1\n",
      "68400        1                1\n",
      "64800        1                1\n",
      "61200       97               43\n",
      "57600        7                2\n",
      "54000      793              793\n",
      "50400        9                9\n",
      "46800        1                1\n",
      "43200    20696             6862\n",
      "39600       83               40\n",
      "36000       31               31\n",
      "32400        3                3\n",
      "28800       94               94\n",
      "25200        8                8\n",
      "21600     1713              182\n",
      "18000      861              825\n",
      "14400     2645             1339\n",
      "10800      357              350\n",
      "9000         1                1\n",
      "7200       223              185\n",
      "6300         2                2\n",
      "5400         6                6\n",
      "3600        78               71\n",
      "2400         4                4\n",
      "1800        19               19\n",
      "60           1                1\n",
      "0           67               10\n"
     ]
    },
    {
     "data": {
      "text/plain": [
       "<AxesSubplot:xlabel='ttl'>"
      ]
     },
     "execution_count": 90,
     "metadata": {},
     "output_type": "execute_result"
    },
    {
     "data": {
      "image/png": "[encoded data removed]",
      "text/plain": [
       "<Figure size 576x396 with 1 Axes>"
      ]
     },
     "metadata": {},
     "output_type": "display_data"
    }
   ],
   "source": [
    "#Time to live\n",
    "#Most campaigns have TTL as 129600.0 or 43200.0\n",
    "res = df.groupby('ttl').agg(count=pd.NamedAgg(column='app_name', aggfunc='count'),\n",
    "    uniquecampaigns=pd.NamedAgg(column='cid', aggfunc='nunique')\n",
    "    ).sort_values('ttl',ascending=False)\n",
    "print(res)\n",
    "res.plot(kind='bar' )"
   ]
  },
  {
   "cell_type": "markdown",
   "metadata": {
    "id": "WpMMN6PLP54W"
   },
   "source": [
    "# Section 3: Understading Campaign performance"
   ]
  },
  {
   "cell_type": "markdown",
   "metadata": {},
   "source": [
    "### What are the factors effecting the campaing performance"
   ]
  },
  {
   "cell_type": "code",
   "execution_count": 91,
   "metadata": {
    "colab": {
     "base_uri": "https://localhost:8080/",
     "height": 882
    },
    "id": "YBKp3tl8WfH-",
    "outputId": "8b8b61dc-1a42-4bcf-9ecc-ecf88384392b"
   },
   "outputs": [
    {
     "name": "stdout",
     "output_type": "stream",
     "text": [
      "            count  uniquecampaigns\n",
      "date                              \n",
      "2020-11-01   3565             3565\n",
      "2020-11-02   3434             3434\n",
      "2020-11-03   3531             3531\n",
      "2020-11-04   3469             3469\n",
      "2020-11-05   3308             3308\n",
      "2020-11-06   3426             3426\n",
      "2020-11-07   3408             3408\n",
      "2020-11-08   3488             3488\n",
      "2020-11-09   3294             3294\n",
      "2020-11-10   3708             3708\n",
      "2020-11-11   3495             3495\n",
      "2020-11-12   3497             3497\n",
      "2020-11-13   3286             3286\n",
      "2020-11-14   3217             3217\n",
      "2020-11-15   3548             3548\n",
      "2020-11-16   3540             3540\n",
      "2020-11-17   3389             3389\n",
      "2020-11-18   3831             3831\n",
      "2020-11-19   3928             3928\n",
      "2020-11-20   3675             3675\n",
      "2020-11-21   3768             3768\n",
      "2020-11-22   3494             3494\n",
      "2020-11-23   3497             3497\n",
      "2020-11-24   3513             3513\n",
      "2020-11-25   3630             3630\n",
      "2020-11-26   3707             3707\n",
      "2020-11-27   4206             4206\n",
      "2020-11-28   3662             3662\n",
      "2020-11-29   3766             3766\n",
      "2020-11-30   3419             3419\n"
     ]
    },
    {
     "data": {
      "text/plain": [
       "<AxesSubplot:xlabel='date'>"
      ]
     },
     "execution_count": 91,
     "metadata": {},
     "output_type": "execute_result"
    },
    {
     "data": {
      "image/png": "[encoded data removed]",
      "text/plain": [
       "<Figure size 576x396 with 1 Axes>"
      ]
     },
     "metadata": {},
     "output_type": "display_data"
    }
   ],
   "source": [
    "#date\n",
    "# Daily performance of NOV 2020 campaigns\n",
    "res = df.groupby('date').agg(count=pd.NamedAgg(column='app_name', aggfunc='count'),\n",
    "    uniquecampaigns=pd.NamedAgg(column='cid', aggfunc='nunique')\n",
    "    ).sort_values('date',ascending=True)\n",
    "print(res)\n",
    "res.plot(kind='bar' )"
   ]
  },
  {
   "cell_type": "code",
   "execution_count": 92,
   "metadata": {
    "colab": {
     "base_uri": "https://localhost:8080/"
    },
    "id": "tOcbWHxeYDfF",
    "outputId": "13b3aff6-128e-48c5-bfd3-4ba673d24bfe"
   },
   "outputs": [
    {
     "data": {
      "text/plain": [
       "TXN API Push        53918\n",
       "ST Push             39191\n",
       "General Push        13534\n",
       "Geo-fencing Push       44\n",
       "RT Push                12\n",
       "Name: ctype, dtype: int64"
      ]
     },
     "execution_count": 92,
     "metadata": {},
     "output_type": "execute_result"
    }
   ],
   "source": [
    "df['ctype'].value_counts()"
   ]
  },
  {
   "cell_type": "code",
   "execution_count": 93,
   "metadata": {
    "colab": {
     "base_uri": "https://localhost:8080/",
     "height": 1000
    },
    "id": "cPmVX2oFXmuH",
    "outputId": "7ed16ec9-797b-4495-d30d-9c2f5189d54e"
   },
   "outputs": [
    {
     "data": {
      "text/plain": [
       "<AxesSubplot:xlabel='ctype,date'>"
      ]
     },
     "execution_count": 93,
     "metadata": {},
     "output_type": "execute_result"
    },
    {
     "data": {
      "image/png": "[encoded data removed]",
      "text/plain": [
       "<Figure size 576x396 with 1 Axes>"
      ]
     },
     "metadata": {},
     "output_type": "display_data"
    },
    {
     "data": {
      "image/png": "[encoded data removed]",
      "text/plain": [
       "<Figure size 576x396 with 1 Axes>"
      ]
     },
     "metadata": {},
     "output_type": "display_data"
    },
    {
     "data": {
      "image/png": "[encoded data removed]",
      "text/plain": [
       "<Figure size 576x396 with 1 Axes>"
      ]
     },
     "metadata": {},
     "output_type": "display_data"
    },
    {
     "data": {
      "image/png": "[encoded data removed]",
      "text/plain": [
       "<Figure size 576x396 with 1 Axes>"
      ]
     },
     "metadata": {},
     "output_type": "display_data"
    },
    {
     "data": {
      "image/png": "[encoded data removed]",
      "text/plain": [
       "<Figure size 576x396 with 1 Axes>"
      ]
     },
     "metadata": {},
     "output_type": "display_data"
    }
   ],
   "source": [
    "#date x Campaign type\n",
    "# Daily performance of campaigns of NOV 2020 campaigns - TXN API push campaigns\n",
    "res = df[df['ctype'] == \"TXN API Push\"].groupby(['ctype','date']).agg(count=pd.NamedAgg(column='app_name', aggfunc='count'),\n",
    "    uniquecampaigns=pd.NamedAgg(column='cid', aggfunc='nunique')\n",
    "    ).sort_values('date',ascending=True)\n",
    "res.plot(kind='bar' )\n",
    "\n",
    "# Daily performance of campaigns of NOV 2020 campaigns - ST push campaigns\n",
    "res = df[df['ctype'] == \"ST Push\"].groupby(['ctype','date']).agg(count=pd.NamedAgg(column='app_name', aggfunc='count'),\n",
    "    uniquecampaigns=pd.NamedAgg(column='cid', aggfunc='nunique')\n",
    "    ).sort_values('date',ascending=True)\n",
    "res.plot(kind='bar' )\n",
    "\n",
    "# Daily performance of campaigns of NOV 2020 campaigns - General Push campaigns\n",
    "res = df[df['ctype'] == \"General Push\"].groupby(['ctype','date']).agg(count=pd.NamedAgg(column='app_name', aggfunc='count'),\n",
    "    uniquecampaigns=pd.NamedAgg(column='cid', aggfunc='nunique')\n",
    "    ).sort_values('date',ascending=True)\n",
    "res.plot(kind='bar' )\n",
    "\n",
    "# Daily performance of campaigns of NOV 2020 campaigns - Geo-fencing Push campaigns\n",
    "res = df[df['ctype'] == \"Geo-fencing Push\"].groupby(['ctype','date']).agg(count=pd.NamedAgg(column='app_name', aggfunc='count'),\n",
    "    uniquecampaigns=pd.NamedAgg(column='cid', aggfunc='nunique')\n",
    "    ).sort_values('date',ascending=True)\n",
    "res.plot(kind='bar' )\n",
    "\n",
    "# Daily performance of campaigns of NOV 2020 campaigns - RT Push campaigns\n",
    "res = df[df['ctype'] == \"RT Push\"].groupby(['ctype','date']).agg(count=pd.NamedAgg(column='app_name', aggfunc='count'),\n",
    "    uniquecampaigns=pd.NamedAgg(column='cid', aggfunc='nunique')\n",
    "    ).sort_values('date',ascending=True)\n",
    "res.plot(kind='bar' )\n"
   ]
  },
  {
   "cell_type": "markdown",
   "metadata": {
    "id": "aSG4FDrUQRV7"
   },
   "source": [
    "#### Overall noti performance measures*\n",
    "\n",
    "> Noti sent, received, PaPlus noti sent, PAplus noti received, Deivery rate overall and PAPlus delivery rate\n",
    "\n"
   ]
  },
  {
   "cell_type": "code",
   "execution_count": 94,
   "metadata": {
    "colab": {
     "base_uri": "https://localhost:8080/"
    },
    "id": "hU9VDX5HMrbU",
    "outputId": "2e13f6c0-527f-4247-8b7c-c94c663fcfcc"
   },
   "outputs": [
    {
     "name": "stdout",
     "output_type": "stream",
     "text": [
      "Total Noti sent: 12360346424 \n",
      "Total Noti Received: 5638463813 \n",
      "Total PaPlus Noti sent: 523991757 \n",
      "Total PaPlus Noti Received: 387127087 \n",
      "Total Noti Delivery rate: 45.61736070804483 \n",
      "Total PaPlus Noti Delivery rate: 73.88037728234721 \n",
      "Total unique campaigns : 32072 \n"
     ]
    }
   ],
   "source": [
    "#Checking the noti performance -overall level\n",
    "overalltotalnoti_sent = df['sent'].sum()\n",
    "overalltotalnoti_imp = df['impressions'].sum()\n",
    "overall_paplusnoti_sent = df['paplus_sent'].sum()\n",
    "overall_paplusnoti_imp = df['imp'].sum()\n",
    "overall_uniquecampaigns = df['cid'].nunique()\n",
    "\n",
    "print('Total Noti sent: {} '.format(overalltotalnoti_sent))\n",
    "print('Total Noti Received: {} '.format(overalltotalnoti_imp))\n",
    "print('Total PaPlus Noti sent: {} '.format(overall_paplusnoti_sent))\n",
    "print('Total PaPlus Noti Received: {} '.format(overall_paplusnoti_imp))\n",
    "print('Total Noti Delivery rate: {} '.format((overalltotalnoti_imp/overalltotalnoti_sent)*100))\n",
    "print('Total PaPlus Noti Delivery rate: {} '.format((overall_paplusnoti_imp/overall_paplusnoti_sent)*100))\n",
    "print('Total unique campaigns : {} '.format(overall_uniquecampaigns))"
   ]
  },
  {
   "cell_type": "markdown",
   "metadata": {
    "id": "aPP7J5-4QvBo"
   },
   "source": [
    "#### Phonewala,SongWala, TVWala, Malay_prod which engage highest for notis, see delivery rate avg of 46.7% while their PAPlus delivery rates are greatly higher with around 75% PAPlus delivery rate"
   ]
  },
  {
   "cell_type": "code",
   "execution_count": 95,
   "metadata": {
    "colab": {
     "base_uri": "https://localhost:8080/",
     "height": 1000
    },
    "id": "lRU1_nV3J9VN",
    "outputId": "21a0d212-900f-4645-98c1-746075b41ea7"
   },
   "outputs": [
    {
     "data": {
      "text/html": [
       "<div>\n",
       "<style scoped>\n",
       "    .dataframe tbody tr th:only-of-type {\n",
       "        vertical-align: middle;\n",
       "    }\n",
       "\n",
       "    .dataframe tbody tr th {\n",
       "        vertical-align: top;\n",
       "    }\n",
       "\n",
       "    .dataframe thead th {\n",
       "        text-align: right;\n",
       "    }\n",
       "</style>\n",
       "<table border=\"1\" class=\"dataframe\">\n",
       "  <thead>\n",
       "    <tr style=\"text-align: right;\">\n",
       "      <th></th>\n",
       "      <th>paplus_sent</th>\n",
       "      <th>paplus_imp</th>\n",
       "      <th>totalnoti_sent</th>\n",
       "      <th>totalnoti_imp</th>\n",
       "      <th>uniquecampaigns</th>\n",
       "      <th>delivery_rate_percentage</th>\n",
       "      <th>delivery_rate_paplus_percentage</th>\n",
       "    </tr>\n",
       "    <tr>\n",
       "      <th>app_name</th>\n",
       "      <th></th>\n",
       "      <th></th>\n",
       "      <th></th>\n",
       "      <th></th>\n",
       "      <th></th>\n",
       "      <th></th>\n",
       "      <th></th>\n",
       "    </tr>\n",
       "  </thead>\n",
       "  <tbody>\n",
       "    <tr>\n",
       "      <th>Phonewala</th>\n",
       "      <td>17</td>\n",
       "      <td>3</td>\n",
       "      <td>5195426125</td>\n",
       "      <td>2076166494</td>\n",
       "      <td>4601</td>\n",
       "      <td>39.961428</td>\n",
       "      <td>17.647059</td>\n",
       "    </tr>\n",
       "    <tr>\n",
       "      <th>Songswala</th>\n",
       "      <td>234334472</td>\n",
       "      <td>178749349</td>\n",
       "      <td>3223317122</td>\n",
       "      <td>1401278435</td>\n",
       "      <td>2706</td>\n",
       "      <td>43.473179</td>\n",
       "      <td>76.279579</td>\n",
       "    </tr>\n",
       "    <tr>\n",
       "      <th>TVwala</th>\n",
       "      <td>152128294</td>\n",
       "      <td>113972012</td>\n",
       "      <td>1501468041</td>\n",
       "      <td>729222829</td>\n",
       "      <td>9432</td>\n",
       "      <td>48.567323</td>\n",
       "      <td>74.918353</td>\n",
       "    </tr>\n",
       "    <tr>\n",
       "      <th>Malay_prod</th>\n",
       "      <td>137365193</td>\n",
       "      <td>94332567</td>\n",
       "      <td>1139362289</td>\n",
       "      <td>625132201</td>\n",
       "      <td>1527</td>\n",
       "      <td>54.866850</td>\n",
       "      <td>68.672831</td>\n",
       "    </tr>\n",
       "    <tr>\n",
       "      <th>Set_IND</th>\n",
       "      <td>0</td>\n",
       "      <td>0</td>\n",
       "      <td>322437478</td>\n",
       "      <td>255410488</td>\n",
       "      <td>145</td>\n",
       "      <td>79.212407</td>\n",
       "      <td>NaN</td>\n",
       "    </tr>\n",
       "    <tr>\n",
       "      <th>Life_IND</th>\n",
       "      <td>0</td>\n",
       "      <td>0</td>\n",
       "      <td>176116896</td>\n",
       "      <td>134708405</td>\n",
       "      <td>220</td>\n",
       "      <td>76.488064</td>\n",
       "      <td>NaN</td>\n",
       "    </tr>\n",
       "    <tr>\n",
       "      <th>Sabziwala</th>\n",
       "      <td>0</td>\n",
       "      <td>0</td>\n",
       "      <td>148096562</td>\n",
       "      <td>112946709</td>\n",
       "      <td>383</td>\n",
       "      <td>76.265585</td>\n",
       "      <td>NaN</td>\n",
       "    </tr>\n",
       "    <tr>\n",
       "      <th>Clothwala</th>\n",
       "      <td>0</td>\n",
       "      <td>0</td>\n",
       "      <td>145504968</td>\n",
       "      <td>69329872</td>\n",
       "      <td>957</td>\n",
       "      <td>47.647770</td>\n",
       "      <td>NaN</td>\n",
       "    </tr>\n",
       "    <tr>\n",
       "      <th>Life_max</th>\n",
       "      <td>0</td>\n",
       "      <td>0</td>\n",
       "      <td>103569982</td>\n",
       "      <td>57213339</td>\n",
       "      <td>659</td>\n",
       "      <td>55.241237</td>\n",
       "      <td>NaN</td>\n",
       "    </tr>\n",
       "    <tr>\n",
       "      <th>Wholesale_prod</th>\n",
       "      <td>0</td>\n",
       "      <td>0</td>\n",
       "      <td>100237164</td>\n",
       "      <td>7920711</td>\n",
       "      <td>168</td>\n",
       "      <td>7.901970</td>\n",
       "      <td>NaN</td>\n",
       "    </tr>\n",
       "    <tr>\n",
       "      <th>TripTest</th>\n",
       "      <td>0</td>\n",
       "      <td>0</td>\n",
       "      <td>92123221</td>\n",
       "      <td>35291924</td>\n",
       "      <td>103</td>\n",
       "      <td>38.309477</td>\n",
       "      <td>NaN</td>\n",
       "    </tr>\n",
       "    <tr>\n",
       "      <th>Gharwala</th>\n",
       "      <td>0</td>\n",
       "      <td>0</td>\n",
       "      <td>32694227</td>\n",
       "      <td>18047318</td>\n",
       "      <td>587</td>\n",
       "      <td>55.200320</td>\n",
       "      <td>NaN</td>\n",
       "    </tr>\n",
       "    <tr>\n",
       "      <th>UAE_Prod</th>\n",
       "      <td>0</td>\n",
       "      <td>0</td>\n",
       "      <td>28181534</td>\n",
       "      <td>16613647</td>\n",
       "      <td>482</td>\n",
       "      <td>58.952245</td>\n",
       "      <td>NaN</td>\n",
       "    </tr>\n",
       "    <tr>\n",
       "      <th>Gharwala_2</th>\n",
       "      <td>0</td>\n",
       "      <td>0</td>\n",
       "      <td>27702257</td>\n",
       "      <td>22418414</td>\n",
       "      <td>95</td>\n",
       "      <td>80.926309</td>\n",
       "      <td>NaN</td>\n",
       "    </tr>\n",
       "    <tr>\n",
       "      <th>Daily2_production</th>\n",
       "      <td>0</td>\n",
       "      <td>0</td>\n",
       "      <td>26735189</td>\n",
       "      <td>21918269</td>\n",
       "      <td>534</td>\n",
       "      <td>81.982847</td>\n",
       "      <td>NaN</td>\n",
       "    </tr>\n",
       "    <tr>\n",
       "      <th>paintIND</th>\n",
       "      <td>0</td>\n",
       "      <td>0</td>\n",
       "      <td>25851815</td>\n",
       "      <td>13094033</td>\n",
       "      <td>587</td>\n",
       "      <td>50.650343</td>\n",
       "      <td>NaN</td>\n",
       "    </tr>\n",
       "    <tr>\n",
       "      <th>Dailyprod</th>\n",
       "      <td>0</td>\n",
       "      <td>0</td>\n",
       "      <td>20759192</td>\n",
       "      <td>15910448</td>\n",
       "      <td>200</td>\n",
       "      <td>76.642906</td>\n",
       "      <td>NaN</td>\n",
       "    </tr>\n",
       "    <tr>\n",
       "      <th>babywala</th>\n",
       "      <td>0</td>\n",
       "      <td>0</td>\n",
       "      <td>14603321</td>\n",
       "      <td>7782690</td>\n",
       "      <td>428</td>\n",
       "      <td>53.293973</td>\n",
       "      <td>NaN</td>\n",
       "    </tr>\n",
       "    <tr>\n",
       "      <th>ABC_Prod</th>\n",
       "      <td>0</td>\n",
       "      <td>0</td>\n",
       "      <td>8265770</td>\n",
       "      <td>3649273</td>\n",
       "      <td>390</td>\n",
       "      <td>44.149220</td>\n",
       "      <td>NaN</td>\n",
       "    </tr>\n",
       "    <tr>\n",
       "      <th>nineten_ind</th>\n",
       "      <td>0</td>\n",
       "      <td>0</td>\n",
       "      <td>7626110</td>\n",
       "      <td>4916972</td>\n",
       "      <td>127</td>\n",
       "      <td>64.475493</td>\n",
       "      <td>NaN</td>\n",
       "    </tr>\n",
       "    <tr>\n",
       "      <th>Style_IND</th>\n",
       "      <td>0</td>\n",
       "      <td>0</td>\n",
       "      <td>5517286</td>\n",
       "      <td>2787278</td>\n",
       "      <td>484</td>\n",
       "      <td>50.519005</td>\n",
       "      <td>NaN</td>\n",
       "    </tr>\n",
       "    <tr>\n",
       "      <th>ShoesKUL</th>\n",
       "      <td>0</td>\n",
       "      <td>0</td>\n",
       "      <td>4093362</td>\n",
       "      <td>1962518</td>\n",
       "      <td>192</td>\n",
       "      <td>47.943915</td>\n",
       "      <td>NaN</td>\n",
       "    </tr>\n",
       "    <tr>\n",
       "      <th>LeranNow</th>\n",
       "      <td>0</td>\n",
       "      <td>0</td>\n",
       "      <td>2759886</td>\n",
       "      <td>13383</td>\n",
       "      <td>245</td>\n",
       "      <td>0.484911</td>\n",
       "      <td>NaN</td>\n",
       "    </tr>\n",
       "    <tr>\n",
       "      <th>ChampionProd</th>\n",
       "      <td>0</td>\n",
       "      <td>0</td>\n",
       "      <td>2349694</td>\n",
       "      <td>1459154</td>\n",
       "      <td>30</td>\n",
       "      <td>62.099746</td>\n",
       "      <td>NaN</td>\n",
       "    </tr>\n",
       "    <tr>\n",
       "      <th>MMS</th>\n",
       "      <td>0</td>\n",
       "      <td>0</td>\n",
       "      <td>2172247</td>\n",
       "      <td>886235</td>\n",
       "      <td>32</td>\n",
       "      <td>40.798077</td>\n",
       "      <td>NaN</td>\n",
       "    </tr>\n",
       "    <tr>\n",
       "      <th>astro_hindi</th>\n",
       "      <td>163706</td>\n",
       "      <td>73109</td>\n",
       "      <td>1274815</td>\n",
       "      <td>959729</td>\n",
       "      <td>40</td>\n",
       "      <td>75.283786</td>\n",
       "      <td>44.658717</td>\n",
       "    </tr>\n",
       "    <tr>\n",
       "      <th>BitcoinCX</th>\n",
       "      <td>0</td>\n",
       "      <td>0</td>\n",
       "      <td>835916</td>\n",
       "      <td>668262</td>\n",
       "      <td>51</td>\n",
       "      <td>79.943679</td>\n",
       "      <td>NaN</td>\n",
       "    </tr>\n",
       "    <tr>\n",
       "      <th>box_prod</th>\n",
       "      <td>0</td>\n",
       "      <td>0</td>\n",
       "      <td>484085</td>\n",
       "      <td>346253</td>\n",
       "      <td>45</td>\n",
       "      <td>71.527314</td>\n",
       "      <td>NaN</td>\n",
       "    </tr>\n",
       "    <tr>\n",
       "      <th>GoldProduction</th>\n",
       "      <td>0</td>\n",
       "      <td>0</td>\n",
       "      <td>293374</td>\n",
       "      <td>237303</td>\n",
       "      <td>55</td>\n",
       "      <td>80.887536</td>\n",
       "      <td>NaN</td>\n",
       "    </tr>\n",
       "    <tr>\n",
       "      <th>id_dealers</th>\n",
       "      <td>0</td>\n",
       "      <td>0</td>\n",
       "      <td>252525</td>\n",
       "      <td>5531</td>\n",
       "      <td>167</td>\n",
       "      <td>2.190278</td>\n",
       "      <td>NaN</td>\n",
       "    </tr>\n",
       "    <tr>\n",
       "      <th>Book_test</th>\n",
       "      <td>0</td>\n",
       "      <td>0</td>\n",
       "      <td>129007</td>\n",
       "      <td>88461</td>\n",
       "      <td>10</td>\n",
       "      <td>68.570698</td>\n",
       "      <td>NaN</td>\n",
       "    </tr>\n",
       "    <tr>\n",
       "      <th>apmcprod</th>\n",
       "      <td>0</td>\n",
       "      <td>0</td>\n",
       "      <td>50993</td>\n",
       "      <td>42791</td>\n",
       "      <td>6</td>\n",
       "      <td>83.915439</td>\n",
       "      <td>NaN</td>\n",
       "    </tr>\n",
       "    <tr>\n",
       "      <th>RVAPROD</th>\n",
       "      <td>0</td>\n",
       "      <td>0</td>\n",
       "      <td>16349</td>\n",
       "      <td>10345</td>\n",
       "      <td>4</td>\n",
       "      <td>63.276041</td>\n",
       "      <td>NaN</td>\n",
       "    </tr>\n",
       "    <tr>\n",
       "      <th>Armwala</th>\n",
       "      <td>0</td>\n",
       "      <td>0</td>\n",
       "      <td>15640</td>\n",
       "      <td>12555</td>\n",
       "      <td>6038</td>\n",
       "      <td>80.274936</td>\n",
       "      <td>NaN</td>\n",
       "    </tr>\n",
       "    <tr>\n",
       "      <th>Scooterportal</th>\n",
       "      <td>0</td>\n",
       "      <td>0</td>\n",
       "      <td>8627</td>\n",
       "      <td>4541</td>\n",
       "      <td>35</td>\n",
       "      <td>52.637070</td>\n",
       "      <td>NaN</td>\n",
       "    </tr>\n",
       "    <tr>\n",
       "      <th>open_mindapp</th>\n",
       "      <td>0</td>\n",
       "      <td>0</td>\n",
       "      <td>6461</td>\n",
       "      <td>3126</td>\n",
       "      <td>4</td>\n",
       "      <td>48.382603</td>\n",
       "      <td>NaN</td>\n",
       "    </tr>\n",
       "    <tr>\n",
       "      <th>MyTestmoetest</th>\n",
       "      <td>0</td>\n",
       "      <td>0</td>\n",
       "      <td>1848</td>\n",
       "      <td>1751</td>\n",
       "      <td>7</td>\n",
       "      <td>94.751082</td>\n",
       "      <td>NaN</td>\n",
       "    </tr>\n",
       "    <tr>\n",
       "      <th>ClientDemomoetest</th>\n",
       "      <td>0</td>\n",
       "      <td>0</td>\n",
       "      <td>1034</td>\n",
       "      <td>0</td>\n",
       "      <td>25</td>\n",
       "      <td>0.000000</td>\n",
       "      <td>NaN</td>\n",
       "    </tr>\n",
       "    <tr>\n",
       "      <th>chopcutsmoetest</th>\n",
       "      <td>0</td>\n",
       "      <td>0</td>\n",
       "      <td>740</td>\n",
       "      <td>709</td>\n",
       "      <td>13</td>\n",
       "      <td>95.810811</td>\n",
       "      <td>NaN</td>\n",
       "    </tr>\n",
       "    <tr>\n",
       "      <th>scootersPROD</th>\n",
       "      <td>0</td>\n",
       "      <td>0</td>\n",
       "      <td>464</td>\n",
       "      <td>401</td>\n",
       "      <td>2</td>\n",
       "      <td>86.422414</td>\n",
       "      <td>NaN</td>\n",
       "    </tr>\n",
       "    <tr>\n",
       "      <th>Benganmoetest</th>\n",
       "      <td>0</td>\n",
       "      <td>0</td>\n",
       "      <td>450</td>\n",
       "      <td>0</td>\n",
       "      <td>29</td>\n",
       "      <td>0.000000</td>\n",
       "      <td>NaN</td>\n",
       "    </tr>\n",
       "    <tr>\n",
       "      <th>rentalmoetest</th>\n",
       "      <td>0</td>\n",
       "      <td>0</td>\n",
       "      <td>437</td>\n",
       "      <td>352</td>\n",
       "      <td>2</td>\n",
       "      <td>80.549199</td>\n",
       "      <td>NaN</td>\n",
       "    </tr>\n",
       "    <tr>\n",
       "      <th>Moviesmoetest</th>\n",
       "      <td>0</td>\n",
       "      <td>0</td>\n",
       "      <td>418</td>\n",
       "      <td>102</td>\n",
       "      <td>42</td>\n",
       "      <td>24.401914</td>\n",
       "      <td>NaN</td>\n",
       "    </tr>\n",
       "    <tr>\n",
       "      <th>DemoAppmoetest</th>\n",
       "      <td>0</td>\n",
       "      <td>0</td>\n",
       "      <td>346</td>\n",
       "      <td>1</td>\n",
       "      <td>31</td>\n",
       "      <td>0.289017</td>\n",
       "      <td>NaN</td>\n",
       "    </tr>\n",
       "    <tr>\n",
       "      <th>Blimoetest</th>\n",
       "      <td>75</td>\n",
       "      <td>47</td>\n",
       "      <td>326</td>\n",
       "      <td>101</td>\n",
       "      <td>6</td>\n",
       "      <td>30.981595</td>\n",
       "      <td>62.666667</td>\n",
       "    </tr>\n",
       "    <tr>\n",
       "      <th>uae_cluster_uat</th>\n",
       "      <td>0</td>\n",
       "      <td>0</td>\n",
       "      <td>231</td>\n",
       "      <td>70</td>\n",
       "      <td>45</td>\n",
       "      <td>30.303030</td>\n",
       "      <td>NaN</td>\n",
       "    </tr>\n",
       "    <tr>\n",
       "      <th>MoEngageDemoAppMoeTest</th>\n",
       "      <td>0</td>\n",
       "      <td>0</td>\n",
       "      <td>200</td>\n",
       "      <td>180</td>\n",
       "      <td>5</td>\n",
       "      <td>90.000000</td>\n",
       "      <td>NaN</td>\n",
       "    </tr>\n",
       "    <tr>\n",
       "      <th>voxboxmoetest</th>\n",
       "      <td>0</td>\n",
       "      <td>0</td>\n",
       "      <td>174</td>\n",
       "      <td>0</td>\n",
       "      <td>29</td>\n",
       "      <td>0.000000</td>\n",
       "      <td>NaN</td>\n",
       "    </tr>\n",
       "    <tr>\n",
       "      <th>mensblogmoetest</th>\n",
       "      <td>0</td>\n",
       "      <td>0</td>\n",
       "      <td>85</td>\n",
       "      <td>0</td>\n",
       "      <td>17</td>\n",
       "      <td>0.000000</td>\n",
       "      <td>NaN</td>\n",
       "    </tr>\n",
       "    <tr>\n",
       "      <th>dev_solmoetest</th>\n",
       "      <td>0</td>\n",
       "      <td>0</td>\n",
       "      <td>58</td>\n",
       "      <td>36</td>\n",
       "      <td>1</td>\n",
       "      <td>62.068966</td>\n",
       "      <td>NaN</td>\n",
       "    </tr>\n",
       "    <tr>\n",
       "      <th>doorsmoetest</th>\n",
       "      <td>0</td>\n",
       "      <td>0</td>\n",
       "      <td>53</td>\n",
       "      <td>3</td>\n",
       "      <td>1</td>\n",
       "      <td>5.660377</td>\n",
       "      <td>NaN</td>\n",
       "    </tr>\n",
       "    <tr>\n",
       "      <th>delivery_ecommoetest</th>\n",
       "      <td>0</td>\n",
       "      <td>0</td>\n",
       "      <td>15</td>\n",
       "      <td>9</td>\n",
       "      <td>1</td>\n",
       "      <td>60.000000</td>\n",
       "      <td>NaN</td>\n",
       "    </tr>\n",
       "    <tr>\n",
       "      <th>grocery_moetest</th>\n",
       "      <td>0</td>\n",
       "      <td>0</td>\n",
       "      <td>6</td>\n",
       "      <td>3</td>\n",
       "      <td>1</td>\n",
       "      <td>50.000000</td>\n",
       "      <td>NaN</td>\n",
       "    </tr>\n",
       "    <tr>\n",
       "      <th>dokterkonsult</th>\n",
       "      <td>0</td>\n",
       "      <td>0</td>\n",
       "      <td>5</td>\n",
       "      <td>5</td>\n",
       "      <td>2</td>\n",
       "      <td>100.000000</td>\n",
       "      <td>NaN</td>\n",
       "    </tr>\n",
       "    <tr>\n",
       "      <th>bikebuddy</th>\n",
       "      <td>0</td>\n",
       "      <td>0</td>\n",
       "      <td>4</td>\n",
       "      <td>0</td>\n",
       "      <td>4</td>\n",
       "      <td>0.000000</td>\n",
       "      <td>NaN</td>\n",
       "    </tr>\n",
       "    <tr>\n",
       "      <th>Fashion4prod</th>\n",
       "      <td>0</td>\n",
       "      <td>0</td>\n",
       "      <td>0</td>\n",
       "      <td>153</td>\n",
       "      <td>39</td>\n",
       "      <td>inf</td>\n",
       "      <td>NaN</td>\n",
       "    </tr>\n",
       "    <tr>\n",
       "      <th>biggerprod</th>\n",
       "      <td>0</td>\n",
       "      <td>0</td>\n",
       "      <td>0</td>\n",
       "      <td>1</td>\n",
       "      <td>1</td>\n",
       "      <td>inf</td>\n",
       "      <td>NaN</td>\n",
       "    </tr>\n",
       "  </tbody>\n",
       "</table>\n",
       "</div>"
      ],
      "text/plain": [
       "                        paplus_sent  paplus_imp  totalnoti_sent  \\\n",
       "app_name                                                          \n",
       "Phonewala                        17           3      5195426125   \n",
       "Songswala                 234334472   178749349      3223317122   \n",
       "TVwala                    152128294   113972012      1501468041   \n",
       "Malay_prod                137365193    94332567      1139362289   \n",
       "Set_IND                           0           0       322437478   \n",
       "Life_IND                          0           0       176116896   \n",
       "Sabziwala                         0           0       148096562   \n",
       "Clothwala                         0           0       145504968   \n",
       "Life_max                          0           0       103569982   \n",
       "Wholesale_prod                    0           0       100237164   \n",
       "TripTest                          0           0        92123221   \n",
       "Gharwala                          0           0        32694227   \n",
       "UAE_Prod                          0           0        28181534   \n",
       "Gharwala_2                        0           0        27702257   \n",
       "Daily2_production                 0           0        26735189   \n",
       "paintIND                          0           0        25851815   \n",
       "Dailyprod                         0           0        20759192   \n",
       "babywala                          0           0        14603321   \n",
       "ABC_Prod                          0           0         8265770   \n",
       "nineten_ind                       0           0         7626110   \n",
       "Style_IND                         0           0         5517286   \n",
       "ShoesKUL                          0           0         4093362   \n",
       "LeranNow                          0           0         2759886   \n",
       "ChampionProd                      0           0         2349694   \n",
       "MMS                               0           0         2172247   \n",
       "astro_hindi                  163706       73109         1274815   \n",
       "BitcoinCX                         0           0          835916   \n",
       "box_prod                          0           0          484085   \n",
       "GoldProduction                    0           0          293374   \n",
       "id_dealers                        0           0          252525   \n",
       "Book_test                         0           0          129007   \n",
       "apmcprod                          0           0           50993   \n",
       "RVAPROD                           0           0           16349   \n",
       "Armwala                           0           0           15640   \n",
       "Scooterportal                     0           0            8627   \n",
       "open_mindapp                      0           0            6461   \n",
       "MyTestmoetest                     0           0            1848   \n",
       "ClientDemomoetest                 0           0            1034   \n",
       "chopcutsmoetest                   0           0             740   \n",
       "scootersPROD                      0           0             464   \n",
       "Benganmoetest                     0           0             450   \n",
       "rentalmoetest                     0           0             437   \n",
       "Moviesmoetest                     0           0             418   \n",
       "DemoAppmoetest                    0           0             346   \n",
       "Blimoetest                       75          47             326   \n",
       "uae_cluster_uat                   0           0             231   \n",
       "MoEngageDemoAppMoeTest            0           0             200   \n",
       "voxboxmoetest                     0           0             174   \n",
       "mensblogmoetest                   0           0              85   \n",
       "dev_solmoetest                    0           0              58   \n",
       "doorsmoetest                      0           0              53   \n",
       "delivery_ecommoetest              0           0              15   \n",
       "grocery_moetest                   0           0               6   \n",
       "dokterkonsult                     0           0               5   \n",
       "bikebuddy                         0           0               4   \n",
       "Fashion4prod                      0           0               0   \n",
       "biggerprod                        0           0               0   \n",
       "\n",
       "                        totalnoti_imp  uniquecampaigns  \\\n",
       "app_name                                                 \n",
       "Phonewala                  2076166494             4601   \n",
       "Songswala                  1401278435             2706   \n",
       "TVwala                      729222829             9432   \n",
       "Malay_prod                  625132201             1527   \n",
       "Set_IND                     255410488              145   \n",
       "Life_IND                    134708405              220   \n",
       "Sabziwala                   112946709              383   \n",
       "Clothwala                    69329872              957   \n",
       "Life_max                     57213339              659   \n",
       "Wholesale_prod                7920711              168   \n",
       "TripTest                     35291924              103   \n",
       "Gharwala                     18047318              587   \n",
       "UAE_Prod                     16613647              482   \n",
       "Gharwala_2                   22418414               95   \n",
       "Daily2_production            21918269              534   \n",
       "paintIND                     13094033              587   \n",
       "Dailyprod                    15910448              200   \n",
       "babywala                      7782690              428   \n",
       "ABC_Prod                      3649273              390   \n",
       "nineten_ind                   4916972              127   \n",
       "Style_IND                     2787278              484   \n",
       "ShoesKUL                      1962518              192   \n",
       "LeranNow                        13383              245   \n",
       "ChampionProd                  1459154               30   \n",
       "MMS                            886235               32   \n",
       "astro_hindi                    959729               40   \n",
       "BitcoinCX                      668262               51   \n",
       "box_prod                       346253               45   \n",
       "GoldProduction                 237303               55   \n",
       "id_dealers                       5531              167   \n",
       "Book_test                       88461               10   \n",
       "apmcprod                        42791                6   \n",
       "RVAPROD                         10345                4   \n",
       "Armwala                         12555             6038   \n",
       "Scooterportal                    4541               35   \n",
       "open_mindapp                     3126                4   \n",
       "MyTestmoetest                    1751                7   \n",
       "ClientDemomoetest                   0               25   \n",
       "chopcutsmoetest                   709               13   \n",
       "scootersPROD                      401                2   \n",
       "Benganmoetest                       0               29   \n",
       "rentalmoetest                     352                2   \n",
       "Moviesmoetest                     102               42   \n",
       "DemoAppmoetest                      1               31   \n",
       "Blimoetest                        101                6   \n",
       "uae_cluster_uat                    70               45   \n",
       "MoEngageDemoAppMoeTest            180                5   \n",
       "voxboxmoetest                       0               29   \n",
       "mensblogmoetest                     0               17   \n",
       "dev_solmoetest                     36                1   \n",
       "doorsmoetest                        3                1   \n",
       "delivery_ecommoetest                9                1   \n",
       "grocery_moetest                     3                1   \n",
       "dokterkonsult                       5                2   \n",
       "bikebuddy                           0                4   \n",
       "Fashion4prod                      153               39   \n",
       "biggerprod                          1                1   \n",
       "\n",
       "                        delivery_rate_percentage  \\\n",
       "app_name                                           \n",
       "Phonewala                              39.961428   \n",
       "Songswala                              43.473179   \n",
       "TVwala                                 48.567323   \n",
       "Malay_prod                             54.866850   \n",
       "Set_IND                                79.212407   \n",
       "Life_IND                               76.488064   \n",
       "Sabziwala                              76.265585   \n",
       "Clothwala                              47.647770   \n",
       "Life_max                               55.241237   \n",
       "Wholesale_prod                          7.901970   \n",
       "TripTest                               38.309477   \n",
       "Gharwala                               55.200320   \n",
       "UAE_Prod                               58.952245   \n",
       "Gharwala_2                             80.926309   \n",
       "Daily2_production                      81.982847   \n",
       "paintIND                               50.650343   \n",
       "Dailyprod                              76.642906   \n",
       "babywala                               53.293973   \n",
       "ABC_Prod                               44.149220   \n",
       "nineten_ind                            64.475493   \n",
       "Style_IND                              50.519005   \n",
       "ShoesKUL                               47.943915   \n",
       "LeranNow                                0.484911   \n",
       "ChampionProd                           62.099746   \n",
       "MMS                                    40.798077   \n",
       "astro_hindi                            75.283786   \n",
       "BitcoinCX                              79.943679   \n",
       "box_prod                               71.527314   \n",
       "GoldProduction                         80.887536   \n",
       "id_dealers                              2.190278   \n",
       "Book_test                              68.570698   \n",
       "apmcprod                               83.915439   \n",
       "RVAPROD                                63.276041   \n",
       "Armwala                                80.274936   \n",
       "Scooterportal                          52.637070   \n",
       "open_mindapp                           48.382603   \n",
       "MyTestmoetest                          94.751082   \n",
       "ClientDemomoetest                       0.000000   \n",
       "chopcutsmoetest                        95.810811   \n",
       "scootersPROD                           86.422414   \n",
       "Benganmoetest                           0.000000   \n",
       "rentalmoetest                          80.549199   \n",
       "Moviesmoetest                          24.401914   \n",
       "DemoAppmoetest                          0.289017   \n",
       "Blimoetest                             30.981595   \n",
       "uae_cluster_uat                        30.303030   \n",
       "MoEngageDemoAppMoeTest                 90.000000   \n",
       "voxboxmoetest                           0.000000   \n",
       "mensblogmoetest                         0.000000   \n",
       "dev_solmoetest                         62.068966   \n",
       "doorsmoetest                            5.660377   \n",
       "delivery_ecommoetest                   60.000000   \n",
       "grocery_moetest                        50.000000   \n",
       "dokterkonsult                         100.000000   \n",
       "bikebuddy                               0.000000   \n",
       "Fashion4prod                                 inf   \n",
       "biggerprod                                   inf   \n",
       "\n",
       "                        delivery_rate_paplus_percentage  \n",
       "app_name                                                 \n",
       "Phonewala                                     17.647059  \n",
       "Songswala                                     76.279579  \n",
       "TVwala                                        74.918353  \n",
       "Malay_prod                                    68.672831  \n",
       "Set_IND                                             NaN  \n",
       "Life_IND                                            NaN  \n",
       "Sabziwala                                           NaN  \n",
       "Clothwala                                           NaN  \n",
       "Life_max                                            NaN  \n",
       "Wholesale_prod                                      NaN  \n",
       "TripTest                                            NaN  \n",
       "Gharwala                                            NaN  \n",
       "UAE_Prod                                            NaN  \n",
       "Gharwala_2                                          NaN  \n",
       "Daily2_production                                   NaN  \n",
       "paintIND                                            NaN  \n",
       "Dailyprod                                           NaN  \n",
       "babywala                                            NaN  \n",
       "ABC_Prod                                            NaN  \n",
       "nineten_ind                                         NaN  \n",
       "Style_IND                                           NaN  \n",
       "ShoesKUL                                            NaN  \n",
       "LeranNow                                            NaN  \n",
       "ChampionProd                                        NaN  \n",
       "MMS                                                 NaN  \n",
       "astro_hindi                                   44.658717  \n",
       "BitcoinCX                                           NaN  \n",
       "box_prod                                            NaN  \n",
       "GoldProduction                                      NaN  \n",
       "id_dealers                                          NaN  \n",
       "Book_test                                           NaN  \n",
       "apmcprod                                            NaN  \n",
       "RVAPROD                                             NaN  \n",
       "Armwala                                             NaN  \n",
       "Scooterportal                                       NaN  \n",
       "open_mindapp                                        NaN  \n",
       "MyTestmoetest                                       NaN  \n",
       "ClientDemomoetest                                   NaN  \n",
       "chopcutsmoetest                                     NaN  \n",
       "scootersPROD                                        NaN  \n",
       "Benganmoetest                                       NaN  \n",
       "rentalmoetest                                       NaN  \n",
       "Moviesmoetest                                       NaN  \n",
       "DemoAppmoetest                                      NaN  \n",
       "Blimoetest                                    62.666667  \n",
       "uae_cluster_uat                                     NaN  \n",
       "MoEngageDemoAppMoeTest                              NaN  \n",
       "voxboxmoetest                                       NaN  \n",
       "mensblogmoetest                                     NaN  \n",
       "dev_solmoetest                                      NaN  \n",
       "doorsmoetest                                        NaN  \n",
       "delivery_ecommoetest                                NaN  \n",
       "grocery_moetest                                     NaN  \n",
       "dokterkonsult                                       NaN  \n",
       "bikebuddy                                           NaN  \n",
       "Fashion4prod                                        NaN  \n",
       "biggerprod                                          NaN  "
      ]
     },
     "execution_count": 95,
     "metadata": {},
     "output_type": "execute_result"
    }
   ],
   "source": [
    "#Checking the noti performance per app\n",
    "res= df.groupby('app_name').agg(paplus_sent=pd.NamedAgg(column='paplus_sent', aggfunc='sum'),\n",
    "    paplus_imp=pd.NamedAgg(column='imp', aggfunc='sum'),\n",
    "    totalnoti_sent=pd.NamedAgg(column='sent', aggfunc='sum'),\n",
    "    totalnoti_imp=pd.NamedAgg(column='impressions', aggfunc='sum'),\n",
    "    uniquecampaigns=pd.NamedAgg(column='cid', aggfunc='nunique'),\n",
    "    ).sort_values('totalnoti_sent',ascending=False)\n",
    "res['delivery_rate_percentage']=(res['totalnoti_imp']/res['totalnoti_sent'])*100\n",
    "res['delivery_rate_paplus_percentage']=(res['paplus_imp']/res['paplus_sent'])*100\n",
    "res.sort_values(by=['totalnoti_sent','delivery_rate_percentage'],ascending=False)\n",
    "    "
   ]
  },
  {
   "cell_type": "code",
   "execution_count": 96,
   "metadata": {
    "colab": {
     "base_uri": "https://localhost:8080/"
    },
    "id": "u227fgs9AdW7",
    "outputId": "4f3542ae-ad1c-465e-e95e-8761521b1ca2"
   },
   "outputs": [
    {
     "name": "stdout",
     "output_type": "stream",
     "text": [
      "ctype                     object\n",
      "cid                       object\n",
      "delivery_type             object\n",
      "sherpa_flag               object\n",
      "target_segment            object\n",
      "ttl                        int64\n",
      "date              datetime64[ns]\n",
      "sent                       int64\n",
      "impressions                int64\n",
      "paplus_sent                int64\n",
      "imp                        int64\n",
      "app_name                  object\n",
      "chk_flag                   int64\n",
      "dtype: object\n"
     ]
    }
   ],
   "source": [
    "print(df.dtypes)"
   ]
  },
  {
   "cell_type": "code",
   "execution_count": 97,
   "metadata": {
    "id": "QYJ5raIMhSSq"
   },
   "outputs": [],
   "source": [
    "# Adding week into data. 1-7 first week, 8-14 second week so on\n",
    "df['date'] = pd.to_datetime(df['date'], errors ='coerce') \n",
    "df['dateweek'] = df['date'].apply(lambda x: math.ceil(x.day/7))"
   ]
  },
  {
   "cell_type": "code",
   "execution_count": 98,
   "metadata": {
    "colab": {
     "base_uri": "https://localhost:8080/"
    },
    "id": "2Z4WyDy1hV1m",
    "outputId": "dcd2f0f6-4d5a-48e0-884f-e1060f3ff0dc"
   },
   "outputs": [
    {
     "name": "stdout",
     "output_type": "stream",
     "text": [
      "ctype                     object\n",
      "cid                       object\n",
      "delivery_type             object\n",
      "sherpa_flag               object\n",
      "target_segment            object\n",
      "ttl                        int64\n",
      "date              datetime64[ns]\n",
      "sent                       int64\n",
      "impressions                int64\n",
      "paplus_sent                int64\n",
      "imp                        int64\n",
      "app_name                  object\n",
      "chk_flag                   int64\n",
      "dateweek                   int64\n",
      "dtype: object\n"
     ]
    }
   ],
   "source": [
    "print(df.dtypes)"
   ]
  },
  {
   "cell_type": "code",
   "execution_count": 99,
   "metadata": {
    "colab": {
     "base_uri": "https://localhost:8080/",
     "height": 1000
    },
    "id": "vG5MWIsfJN4n",
    "outputId": "4302d5ad-1f7d-4039-d209-3c313cf79d4e"
   },
   "outputs": [
    {
     "data": {
      "text/html": [
       "<div>\n",
       "<style scoped>\n",
       "    .dataframe tbody tr th:only-of-type {\n",
       "        vertical-align: middle;\n",
       "    }\n",
       "\n",
       "    .dataframe tbody tr th {\n",
       "        vertical-align: top;\n",
       "    }\n",
       "\n",
       "    .dataframe thead th {\n",
       "        text-align: right;\n",
       "    }\n",
       "</style>\n",
       "<table border=\"1\" class=\"dataframe\">\n",
       "  <thead>\n",
       "    <tr style=\"text-align: right;\">\n",
       "      <th></th>\n",
       "      <th>paplus_sent</th>\n",
       "      <th>paplus_imp</th>\n",
       "      <th>totalnoti_sent</th>\n",
       "      <th>totalnoti_imp</th>\n",
       "      <th>uniquecampaigns</th>\n",
       "      <th>delivery_rate_percentage</th>\n",
       "      <th>delivery_rate_paplus_percentage</th>\n",
       "    </tr>\n",
       "    <tr>\n",
       "      <th>date</th>\n",
       "      <th></th>\n",
       "      <th></th>\n",
       "      <th></th>\n",
       "      <th></th>\n",
       "      <th></th>\n",
       "      <th></th>\n",
       "      <th></th>\n",
       "    </tr>\n",
       "  </thead>\n",
       "  <tbody>\n",
       "    <tr>\n",
       "      <th>2020-11-01</th>\n",
       "      <td>11701235</td>\n",
       "      <td>8402957</td>\n",
       "      <td>378043235</td>\n",
       "      <td>182903095</td>\n",
       "      <td>3565</td>\n",
       "      <td>48.381528</td>\n",
       "      <td>71.812565</td>\n",
       "    </tr>\n",
       "    <tr>\n",
       "      <th>2020-11-02</th>\n",
       "      <td>15261110</td>\n",
       "      <td>10331704</td>\n",
       "      <td>421832411</td>\n",
       "      <td>177521844</td>\n",
       "      <td>3434</td>\n",
       "      <td>42.083500</td>\n",
       "      <td>67.699558</td>\n",
       "    </tr>\n",
       "    <tr>\n",
       "      <th>2020-11-03</th>\n",
       "      <td>16759991</td>\n",
       "      <td>12157194</td>\n",
       "      <td>434955521</td>\n",
       "      <td>175850922</td>\n",
       "      <td>3531</td>\n",
       "      <td>40.429633</td>\n",
       "      <td>72.536996</td>\n",
       "    </tr>\n",
       "    <tr>\n",
       "      <th>2020-11-04</th>\n",
       "      <td>11669840</td>\n",
       "      <td>7949572</td>\n",
       "      <td>397497057</td>\n",
       "      <td>171973592</td>\n",
       "      <td>3469</td>\n",
       "      <td>43.264117</td>\n",
       "      <td>68.120660</td>\n",
       "    </tr>\n",
       "    <tr>\n",
       "      <th>2020-11-05</th>\n",
       "      <td>18439588</td>\n",
       "      <td>12141108</td>\n",
       "      <td>352234308</td>\n",
       "      <td>164224355</td>\n",
       "      <td>3308</td>\n",
       "      <td>46.623611</td>\n",
       "      <td>65.842621</td>\n",
       "    </tr>\n",
       "    <tr>\n",
       "      <th>2020-11-06</th>\n",
       "      <td>15238635</td>\n",
       "      <td>10442808</td>\n",
       "      <td>433245879</td>\n",
       "      <td>183752503</td>\n",
       "      <td>3426</td>\n",
       "      <td>42.412983</td>\n",
       "      <td>68.528500</td>\n",
       "    </tr>\n",
       "    <tr>\n",
       "      <th>2020-11-07</th>\n",
       "      <td>8604978</td>\n",
       "      <td>6537997</td>\n",
       "      <td>368956458</td>\n",
       "      <td>174352802</td>\n",
       "      <td>3408</td>\n",
       "      <td>47.255658</td>\n",
       "      <td>75.979241</td>\n",
       "    </tr>\n",
       "    <tr>\n",
       "      <th>2020-11-08</th>\n",
       "      <td>12992122</td>\n",
       "      <td>9943137</td>\n",
       "      <td>454870288</td>\n",
       "      <td>207502746</td>\n",
       "      <td>3488</td>\n",
       "      <td>45.618004</td>\n",
       "      <td>76.532048</td>\n",
       "    </tr>\n",
       "    <tr>\n",
       "      <th>2020-11-09</th>\n",
       "      <td>16732297</td>\n",
       "      <td>12843080</td>\n",
       "      <td>361118750</td>\n",
       "      <td>171092974</td>\n",
       "      <td>3294</td>\n",
       "      <td>47.378591</td>\n",
       "      <td>76.756228</td>\n",
       "    </tr>\n",
       "    <tr>\n",
       "      <th>2020-11-10</th>\n",
       "      <td>12886624</td>\n",
       "      <td>10403360</td>\n",
       "      <td>404890178</td>\n",
       "      <td>170374567</td>\n",
       "      <td>3708</td>\n",
       "      <td>42.079205</td>\n",
       "      <td>80.729910</td>\n",
       "    </tr>\n",
       "    <tr>\n",
       "      <th>2020-11-11</th>\n",
       "      <td>13000968</td>\n",
       "      <td>10817719</td>\n",
       "      <td>413413686</td>\n",
       "      <td>186497544</td>\n",
       "      <td>3495</td>\n",
       "      <td>45.111604</td>\n",
       "      <td>83.207027</td>\n",
       "    </tr>\n",
       "    <tr>\n",
       "      <th>2020-11-12</th>\n",
       "      <td>19730281</td>\n",
       "      <td>14380935</td>\n",
       "      <td>460453896</td>\n",
       "      <td>195319755</td>\n",
       "      <td>3497</td>\n",
       "      <td>42.418960</td>\n",
       "      <td>72.887634</td>\n",
       "    </tr>\n",
       "    <tr>\n",
       "      <th>2020-11-13</th>\n",
       "      <td>15262574</td>\n",
       "      <td>11200805</td>\n",
       "      <td>396398811</td>\n",
       "      <td>165859534</td>\n",
       "      <td>3286</td>\n",
       "      <td>41.841582</td>\n",
       "      <td>73.387392</td>\n",
       "    </tr>\n",
       "    <tr>\n",
       "      <th>2020-11-14</th>\n",
       "      <td>15088863</td>\n",
       "      <td>12375207</td>\n",
       "      <td>414131221</td>\n",
       "      <td>188224525</td>\n",
       "      <td>3217</td>\n",
       "      <td>45.450455</td>\n",
       "      <td>82.015504</td>\n",
       "    </tr>\n",
       "    <tr>\n",
       "      <th>2020-11-15</th>\n",
       "      <td>10557857</td>\n",
       "      <td>8637021</td>\n",
       "      <td>329609409</td>\n",
       "      <td>158484987</td>\n",
       "      <td>3548</td>\n",
       "      <td>48.082665</td>\n",
       "      <td>81.806573</td>\n",
       "    </tr>\n",
       "    <tr>\n",
       "      <th>2020-11-16</th>\n",
       "      <td>10991988</td>\n",
       "      <td>8789909</td>\n",
       "      <td>331879277</td>\n",
       "      <td>147957716</td>\n",
       "      <td>3540</td>\n",
       "      <td>44.581788</td>\n",
       "      <td>79.966508</td>\n",
       "    </tr>\n",
       "    <tr>\n",
       "      <th>2020-11-17</th>\n",
       "      <td>13347199</td>\n",
       "      <td>10659208</td>\n",
       "      <td>347655829</td>\n",
       "      <td>159757902</td>\n",
       "      <td>3389</td>\n",
       "      <td>45.952890</td>\n",
       "      <td>79.861011</td>\n",
       "    </tr>\n",
       "    <tr>\n",
       "      <th>2020-11-18</th>\n",
       "      <td>8866259</td>\n",
       "      <td>6509965</td>\n",
       "      <td>323811295</td>\n",
       "      <td>149772290</td>\n",
       "      <td>3831</td>\n",
       "      <td>46.252954</td>\n",
       "      <td>73.424034</td>\n",
       "    </tr>\n",
       "    <tr>\n",
       "      <th>2020-11-19</th>\n",
       "      <td>17368041</td>\n",
       "      <td>13671191</td>\n",
       "      <td>405280856</td>\n",
       "      <td>175863969</td>\n",
       "      <td>3928</td>\n",
       "      <td>43.393110</td>\n",
       "      <td>78.714640</td>\n",
       "    </tr>\n",
       "    <tr>\n",
       "      <th>2020-11-20</th>\n",
       "      <td>15179555</td>\n",
       "      <td>11925696</td>\n",
       "      <td>392157452</td>\n",
       "      <td>175701977</td>\n",
       "      <td>3675</td>\n",
       "      <td>44.803937</td>\n",
       "      <td>78.564200</td>\n",
       "    </tr>\n",
       "    <tr>\n",
       "      <th>2020-11-21</th>\n",
       "      <td>14473418</td>\n",
       "      <td>10790992</td>\n",
       "      <td>372370583</td>\n",
       "      <td>174801155</td>\n",
       "      <td>3768</td>\n",
       "      <td>46.942794</td>\n",
       "      <td>74.557316</td>\n",
       "    </tr>\n",
       "    <tr>\n",
       "      <th>2020-11-22</th>\n",
       "      <td>16695001</td>\n",
       "      <td>10998192</td>\n",
       "      <td>402836299</td>\n",
       "      <td>179025222</td>\n",
       "      <td>3494</td>\n",
       "      <td>44.441184</td>\n",
       "      <td>65.877157</td>\n",
       "    </tr>\n",
       "    <tr>\n",
       "      <th>2020-11-23</th>\n",
       "      <td>13650846</td>\n",
       "      <td>9898473</td>\n",
       "      <td>389167652</td>\n",
       "      <td>177741610</td>\n",
       "      <td>3497</td>\n",
       "      <td>45.672247</td>\n",
       "      <td>72.511792</td>\n",
       "    </tr>\n",
       "    <tr>\n",
       "      <th>2020-11-24</th>\n",
       "      <td>20504999</td>\n",
       "      <td>15085302</td>\n",
       "      <td>382880422</td>\n",
       "      <td>181965706</td>\n",
       "      <td>3513</td>\n",
       "      <td>47.525466</td>\n",
       "      <td>73.568899</td>\n",
       "    </tr>\n",
       "    <tr>\n",
       "      <th>2020-11-25</th>\n",
       "      <td>37196757</td>\n",
       "      <td>25565051</td>\n",
       "      <td>588106653</td>\n",
       "      <td>280218771</td>\n",
       "      <td>3630</td>\n",
       "      <td>47.647611</td>\n",
       "      <td>68.729247</td>\n",
       "    </tr>\n",
       "    <tr>\n",
       "      <th>2020-11-26</th>\n",
       "      <td>16687632</td>\n",
       "      <td>12514975</td>\n",
       "      <td>438477196</td>\n",
       "      <td>209213296</td>\n",
       "      <td>3707</td>\n",
       "      <td>47.713609</td>\n",
       "      <td>74.995512</td>\n",
       "    </tr>\n",
       "    <tr>\n",
       "      <th>2020-11-27</th>\n",
       "      <td>19660265</td>\n",
       "      <td>15298874</td>\n",
       "      <td>423507266</td>\n",
       "      <td>206446260</td>\n",
       "      <td>4206</td>\n",
       "      <td>48.746805</td>\n",
       "      <td>77.816215</td>\n",
       "    </tr>\n",
       "    <tr>\n",
       "      <th>2020-11-28</th>\n",
       "      <td>38205792</td>\n",
       "      <td>27736322</td>\n",
       "      <td>590921436</td>\n",
       "      <td>289691172</td>\n",
       "      <td>3662</td>\n",
       "      <td>49.023636</td>\n",
       "      <td>72.597165</td>\n",
       "    </tr>\n",
       "    <tr>\n",
       "      <th>2020-11-29</th>\n",
       "      <td>31508050</td>\n",
       "      <td>23272871</td>\n",
       "      <td>396518482</td>\n",
       "      <td>198736352</td>\n",
       "      <td>3766</td>\n",
       "      <td>50.120325</td>\n",
       "      <td>73.863254</td>\n",
       "    </tr>\n",
       "    <tr>\n",
       "      <th>2020-11-30</th>\n",
       "      <td>35728992</td>\n",
       "      <td>25845462</td>\n",
       "      <td>553124618</td>\n",
       "      <td>257634670</td>\n",
       "      <td>3419</td>\n",
       "      <td>46.578052</td>\n",
       "      <td>72.337507</td>\n",
       "    </tr>\n",
       "  </tbody>\n",
       "</table>\n",
       "</div>"
      ],
      "text/plain": [
       "            paplus_sent  paplus_imp  totalnoti_sent  totalnoti_imp  \\\n",
       "date                                                                 \n",
       "2020-11-01     11701235     8402957       378043235      182903095   \n",
       "2020-11-02     15261110    10331704       421832411      177521844   \n",
       "2020-11-03     16759991    12157194       434955521      175850922   \n",
       "2020-11-04     11669840     7949572       397497057      171973592   \n",
       "2020-11-05     18439588    12141108       352234308      164224355   \n",
       "2020-11-06     15238635    10442808       433245879      183752503   \n",
       "2020-11-07      8604978     6537997       368956458      174352802   \n",
       "2020-11-08     12992122     9943137       454870288      207502746   \n",
       "2020-11-09     16732297    12843080       361118750      171092974   \n",
       "2020-11-10     12886624    10403360       404890178      170374567   \n",
       "2020-11-11     13000968    10817719       413413686      186497544   \n",
       "2020-11-12     19730281    14380935       460453896      195319755   \n",
       "2020-11-13     15262574    11200805       396398811      165859534   \n",
       "2020-11-14     15088863    12375207       414131221      188224525   \n",
       "2020-11-15     10557857     8637021       329609409      158484987   \n",
       "2020-11-16     10991988     8789909       331879277      147957716   \n",
       "2020-11-17     13347199    10659208       347655829      159757902   \n",
       "2020-11-18      8866259     6509965       323811295      149772290   \n",
       "2020-11-19     17368041    13671191       405280856      175863969   \n",
       "2020-11-20     15179555    11925696       392157452      175701977   \n",
       "2020-11-21     14473418    10790992       372370583      174801155   \n",
       "2020-11-22     16695001    10998192       402836299      179025222   \n",
       "2020-11-23     13650846     9898473       389167652      177741610   \n",
       "2020-11-24     20504999    15085302       382880422      181965706   \n",
       "2020-11-25     37196757    25565051       588106653      280218771   \n",
       "2020-11-26     16687632    12514975       438477196      209213296   \n",
       "2020-11-27     19660265    15298874       423507266      206446260   \n",
       "2020-11-28     38205792    27736322       590921436      289691172   \n",
       "2020-11-29     31508050    23272871       396518482      198736352   \n",
       "2020-11-30     35728992    25845462       553124618      257634670   \n",
       "\n",
       "            uniquecampaigns  delivery_rate_percentage  \\\n",
       "date                                                    \n",
       "2020-11-01             3565                 48.381528   \n",
       "2020-11-02             3434                 42.083500   \n",
       "2020-11-03             3531                 40.429633   \n",
       "2020-11-04             3469                 43.264117   \n",
       "2020-11-05             3308                 46.623611   \n",
       "2020-11-06             3426                 42.412983   \n",
       "2020-11-07             3408                 47.255658   \n",
       "2020-11-08             3488                 45.618004   \n",
       "2020-11-09             3294                 47.378591   \n",
       "2020-11-10             3708                 42.079205   \n",
       "2020-11-11             3495                 45.111604   \n",
       "2020-11-12             3497                 42.418960   \n",
       "2020-11-13             3286                 41.841582   \n",
       "2020-11-14             3217                 45.450455   \n",
       "2020-11-15             3548                 48.082665   \n",
       "2020-11-16             3540                 44.581788   \n",
       "2020-11-17             3389                 45.952890   \n",
       "2020-11-18             3831                 46.252954   \n",
       "2020-11-19             3928                 43.393110   \n",
       "2020-11-20             3675                 44.803937   \n",
       "2020-11-21             3768                 46.942794   \n",
       "2020-11-22             3494                 44.441184   \n",
       "2020-11-23             3497                 45.672247   \n",
       "2020-11-24             3513                 47.525466   \n",
       "2020-11-25             3630                 47.647611   \n",
       "2020-11-26             3707                 47.713609   \n",
       "2020-11-27             4206                 48.746805   \n",
       "2020-11-28             3662                 49.023636   \n",
       "2020-11-29             3766                 50.120325   \n",
       "2020-11-30             3419                 46.578052   \n",
       "\n",
       "            delivery_rate_paplus_percentage  \n",
       "date                                         \n",
       "2020-11-01                        71.812565  \n",
       "2020-11-02                        67.699558  \n",
       "2020-11-03                        72.536996  \n",
       "2020-11-04                        68.120660  \n",
       "2020-11-05                        65.842621  \n",
       "2020-11-06                        68.528500  \n",
       "2020-11-07                        75.979241  \n",
       "2020-11-08                        76.532048  \n",
       "2020-11-09                        76.756228  \n",
       "2020-11-10                        80.729910  \n",
       "2020-11-11                        83.207027  \n",
       "2020-11-12                        72.887634  \n",
       "2020-11-13                        73.387392  \n",
       "2020-11-14                        82.015504  \n",
       "2020-11-15                        81.806573  \n",
       "2020-11-16                        79.966508  \n",
       "2020-11-17                        79.861011  \n",
       "2020-11-18                        73.424034  \n",
       "2020-11-19                        78.714640  \n",
       "2020-11-20                        78.564200  \n",
       "2020-11-21                        74.557316  \n",
       "2020-11-22                        65.877157  \n",
       "2020-11-23                        72.511792  \n",
       "2020-11-24                        73.568899  \n",
       "2020-11-25                        68.729247  \n",
       "2020-11-26                        74.995512  \n",
       "2020-11-27                        77.816215  \n",
       "2020-11-28                        72.597165  \n",
       "2020-11-29                        73.863254  \n",
       "2020-11-30                        72.337507  "
      ]
     },
     "execution_count": 99,
     "metadata": {},
     "output_type": "execute_result"
    }
   ],
   "source": [
    "#Checking the noti performance by date\n",
    "res= df.groupby('date').agg(paplus_sent=pd.NamedAgg(column='paplus_sent', aggfunc='sum'),\n",
    "    paplus_imp=pd.NamedAgg(column='imp', aggfunc='sum'),\n",
    "    totalnoti_sent=pd.NamedAgg(column='sent', aggfunc='sum'),\n",
    "    totalnoti_imp=pd.NamedAgg(column='impressions', aggfunc='sum'),\n",
    "    uniquecampaigns=pd.NamedAgg(column='cid', aggfunc='nunique'),\n",
    "    ).sort_values('totalnoti_sent',ascending=False)\n",
    "res['delivery_rate_percentage']=(res['totalnoti_imp']/res['totalnoti_sent'])*100\n",
    "res['delivery_rate_paplus_percentage']=(res['paplus_imp']/res['paplus_sent'])*100\n",
    "res.sort_values(by=['date'],ascending=True)\n",
    "    "
   ]
  },
  {
   "cell_type": "code",
   "execution_count": 100,
   "metadata": {
    "colab": {
     "base_uri": "https://localhost:8080/"
    },
    "id": "eaqpOoqiNkMW",
    "outputId": "32f1b9f0-1778-46c2-c567-b540cb647344"
   },
   "outputs": [
    {
     "data": {
      "text/plain": [
       "1   2020-11-11\n",
       "2   2020-11-15\n",
       "3   2020-11-12\n",
       "6   2020-11-27\n",
       "7   2020-11-07\n",
       "Name: date, dtype: datetime64[ns]"
      ]
     },
     "execution_count": 100,
     "metadata": {},
     "output_type": "execute_result"
    }
   ],
   "source": [
    "df.date.head()"
   ]
  },
  {
   "cell_type": "code",
   "execution_count": 101,
   "metadata": {
    "colab": {
     "base_uri": "https://localhost:8080/"
    },
    "id": "BAbn1bQ9bY_J",
    "outputId": "1a593165-87cf-4c3e-80ef-8f1589e81a7c"
   },
   "outputs": [
    {
     "data": {
      "text/plain": [
       "1   2020-11-11\n",
       "2   2020-11-15\n",
       "3   2020-11-12\n",
       "6   2020-11-27\n",
       "7   2020-11-07\n",
       "Name: date, dtype: datetime64[ns]"
      ]
     },
     "execution_count": 101,
     "metadata": {},
     "output_type": "execute_result"
    }
   ],
   "source": [
    "pd.to_datetime(df['date'], errors ='coerce').head()"
   ]
  },
  {
   "cell_type": "code",
   "execution_count": 102,
   "metadata": {
    "colab": {
     "base_uri": "https://localhost:8080/"
    },
    "id": "QOQD-i7KbWs4",
    "outputId": "479156e1-eeee-4359-bade-df11b164206f"
   },
   "outputs": [
    {
     "data": {
      "text/plain": [
       "1    11\n",
       "2    15\n",
       "3    12\n",
       "6    27\n",
       "7     7\n",
       "Name: date, dtype: int64"
      ]
     },
     "execution_count": 102,
     "metadata": {},
     "output_type": "execute_result"
    }
   ],
   "source": [
    "pd.to_datetime(df['date'], errors ='coerce').dt.day.head()"
   ]
  },
  {
   "cell_type": "code",
   "execution_count": 103,
   "metadata": {
    "colab": {
     "base_uri": "https://localhost:8080/"
    },
    "id": "B7sXli1ubif8",
    "outputId": "5028dfff-d955-4f2c-dd94-25a20564cf54"
   },
   "outputs": [
    {
     "data": {
      "text/plain": [
       "1   2020-11-11\n",
       "2   2020-11-15\n",
       "3   2020-11-12\n",
       "6   2020-11-27\n",
       "7   2020-11-07\n",
       "Name: date, dtype: datetime64[ns]"
      ]
     },
     "execution_count": 103,
     "metadata": {},
     "output_type": "execute_result"
    }
   ],
   "source": [
    "df.date.head()"
   ]
  },
  {
   "cell_type": "code",
   "execution_count": 104,
   "metadata": {
    "colab": {
     "base_uri": "https://localhost:8080/"
    },
    "id": "unNerjlrhi3X",
    "outputId": "76a633ad-5d3f-47d2-ff75-04bde3af0922"
   },
   "outputs": [
    {
     "data": {
      "text/plain": [
       "1    2\n",
       "2    3\n",
       "3    2\n",
       "6    4\n",
       "7    1\n",
       "Name: date, dtype: int64"
      ]
     },
     "execution_count": 104,
     "metadata": {},
     "output_type": "execute_result"
    }
   ],
   "source": [
    "df['date'].apply(lambda x: math.ceil(x.day/7)).head()"
   ]
  },
  {
   "cell_type": "code",
   "execution_count": 105,
   "metadata": {
    "colab": {
     "base_uri": "https://localhost:8080/"
    },
    "id": "bM4kGREfiLPY",
    "outputId": "506145e4-1d18-46b1-e8bc-158b9a4a7aff"
   },
   "outputs": [
    {
     "data": {
      "text/plain": [
       "1    1.571429\n",
       "2    2.142857\n",
       "3    1.714286\n",
       "6    3.857143\n",
       "7    1.000000\n",
       "Name: date, dtype: float64"
      ]
     },
     "execution_count": 105,
     "metadata": {},
     "output_type": "execute_result"
    }
   ],
   "source": [
    "df['date'].apply(lambda x: (x.day/7)).head()"
   ]
  },
  {
   "cell_type": "markdown",
   "metadata": {
    "id": "cXYMWb0XRoJ1"
   },
   "source": [
    "## Weekly performance"
   ]
  },
  {
   "cell_type": "code",
   "execution_count": 106,
   "metadata": {
    "colab": {
     "base_uri": "https://localhost:8080/",
     "height": 204
    },
    "id": "8hfhmIYsWIxL",
    "outputId": "277d10e6-c2fc-493c-d7cc-92b5b0407056"
   },
   "outputs": [
    {
     "data": {
      "text/html": [
       "<div>\n",
       "<style scoped>\n",
       "    .dataframe tbody tr th:only-of-type {\n",
       "        vertical-align: middle;\n",
       "    }\n",
       "\n",
       "    .dataframe tbody tr th {\n",
       "        vertical-align: top;\n",
       "    }\n",
       "\n",
       "    .dataframe thead th {\n",
       "        text-align: right;\n",
       "    }\n",
       "</style>\n",
       "<table border=\"1\" class=\"dataframe\">\n",
       "  <thead>\n",
       "    <tr style=\"text-align: right;\">\n",
       "      <th></th>\n",
       "      <th>dateweek</th>\n",
       "      <th>paplus_sent</th>\n",
       "      <th>paplus_imp</th>\n",
       "      <th>totalnoti_sent</th>\n",
       "      <th>totalnoti_imp</th>\n",
       "      <th>uniquecampaigns</th>\n",
       "      <th>delivery_rate_percentage</th>\n",
       "      <th>delivery_rate_paplus_percentage</th>\n",
       "    </tr>\n",
       "  </thead>\n",
       "  <tbody>\n",
       "    <tr>\n",
       "      <th>2</th>\n",
       "      <td>1</td>\n",
       "      <td>97675377</td>\n",
       "      <td>67963340</td>\n",
       "      <td>2786764869</td>\n",
       "      <td>1230579113</td>\n",
       "      <td>10904</td>\n",
       "      <td>44.157981</td>\n",
       "      <td>69.580832</td>\n",
       "    </tr>\n",
       "    <tr>\n",
       "      <th>1</th>\n",
       "      <td>2</td>\n",
       "      <td>105693729</td>\n",
       "      <td>81964243</td>\n",
       "      <td>2905276830</td>\n",
       "      <td>1284871645</td>\n",
       "      <td>10378</td>\n",
       "      <td>44.225446</td>\n",
       "      <td>77.548823</td>\n",
       "    </tr>\n",
       "    <tr>\n",
       "      <th>3</th>\n",
       "      <td>3</td>\n",
       "      <td>90784317</td>\n",
       "      <td>70983982</td>\n",
       "      <td>2502764701</td>\n",
       "      <td>1142339996</td>\n",
       "      <td>11339</td>\n",
       "      <td>45.643124</td>\n",
       "      <td>78.189697</td>\n",
       "    </tr>\n",
       "    <tr>\n",
       "      <th>0</th>\n",
       "      <td>4</td>\n",
       "      <td>162601292</td>\n",
       "      <td>117097189</td>\n",
       "      <td>3215896924</td>\n",
       "      <td>1524302037</td>\n",
       "      <td>10998</td>\n",
       "      <td>47.398971</td>\n",
       "      <td>72.014919</td>\n",
       "    </tr>\n",
       "    <tr>\n",
       "      <th>4</th>\n",
       "      <td>5</td>\n",
       "      <td>67237042</td>\n",
       "      <td>49118333</td>\n",
       "      <td>949643100</td>\n",
       "      <td>456371022</td>\n",
       "      <td>5110</td>\n",
       "      <td>48.057109</td>\n",
       "      <td>73.052489</td>\n",
       "    </tr>\n",
       "  </tbody>\n",
       "</table>\n",
       "</div>"
      ],
      "text/plain": [
       "   dateweek  paplus_sent  paplus_imp  totalnoti_sent  totalnoti_imp  \\\n",
       "2         1     97675377    67963340      2786764869     1230579113   \n",
       "1         2    105693729    81964243      2905276830     1284871645   \n",
       "3         3     90784317    70983982      2502764701     1142339996   \n",
       "0         4    162601292   117097189      3215896924     1524302037   \n",
       "4         5     67237042    49118333       949643100      456371022   \n",
       "\n",
       "   uniquecampaigns  delivery_rate_percentage  delivery_rate_paplus_percentage  \n",
       "2            10904                 44.157981                        69.580832  \n",
       "1            10378                 44.225446                        77.548823  \n",
       "3            11339                 45.643124                        78.189697  \n",
       "0            10998                 47.398971                        72.014919  \n",
       "4             5110                 48.057109                        73.052489  "
      ]
     },
     "execution_count": 106,
     "metadata": {},
     "output_type": "execute_result"
    }
   ],
   "source": [
    "#Checking the noti performance by week\n",
    "res= df.groupby('dateweek').agg(paplus_sent=pd.NamedAgg(column='paplus_sent', aggfunc='sum'),\n",
    "    paplus_imp=pd.NamedAgg(column='imp', aggfunc='sum'),\n",
    "    totalnoti_sent=pd.NamedAgg(column='sent', aggfunc='sum'),\n",
    "    totalnoti_imp=pd.NamedAgg(column='impressions', aggfunc='sum'),\n",
    "    uniquecampaigns=pd.NamedAgg(column='cid', aggfunc='nunique'),\n",
    "    ).sort_values('totalnoti_sent',ascending=False)\n",
    "res['delivery_rate_percentage']=(res['totalnoti_imp']/res['totalnoti_sent'])*100\n",
    "res['delivery_rate_paplus_percentage']=(res['paplus_imp']/res['paplus_sent'])*100\n",
    "res.reset_index( inplace=True)\n",
    "res.sort_values(by=['dateweek'],ascending=True)\n"
   ]
  },
  {
   "cell_type": "code",
   "execution_count": 107,
   "metadata": {
    "colab": {
     "base_uri": "https://localhost:8080/",
     "height": 284
    },
    "id": "-HO-U6UAj7xT",
    "outputId": "f23da3d9-0ade-4ca1-9049-322d4ef6c717"
   },
   "outputs": [
    {
     "data": {
      "text/plain": [
       "<BarContainer object of 5 artists>"
      ]
     },
     "execution_count": 107,
     "metadata": {},
     "output_type": "execute_result"
    },
    {
     "data": {
      "image/png": "[encoded data removed]",
      "text/plain": [
       "<Figure size 576x396 with 1 Axes>"
      ]
     },
     "metadata": {},
     "output_type": "display_data"
    }
   ],
   "source": [
    "#Checking the noti performance by week\n",
    "res= df.groupby('dateweek').agg(paplus_sent=pd.NamedAgg(column='paplus_sent', aggfunc='sum'),\n",
    "    paplus_imp=pd.NamedAgg(column='imp', aggfunc='sum'),\n",
    "    totalnoti_sent=pd.NamedAgg(column='sent', aggfunc='sum'),\n",
    "    totalnoti_imp=pd.NamedAgg(column='impressions', aggfunc='sum'),\n",
    "    uniquecampaigns=pd.NamedAgg(column='cid', aggfunc='nunique'),\n",
    "    ).sort_values('totalnoti_sent',ascending=False)\n",
    "res['delivery_rate_percentage']=(res['totalnoti_imp']/res['totalnoti_sent'])*100\n",
    "res['delivery_rate_paplus_percentage']=(res['paplus_imp']/res['paplus_sent'])*100\n",
    "res.reset_index( inplace=True)\n",
    "res.sort_values(by=['dateweek'],ascending=True)\n",
    "#plt.bar(res['dateweek'],res['paplus_sent'],color='orange')\n",
    "plt.bar(res['dateweek'],res['delivery_rate_percentage'],color='green')"
   ]
  },
  {
   "cell_type": "markdown",
   "metadata": {
    "id": "d5tcjkoKXypF"
   },
   "source": [
    "#### Noti Delivery rate is increasing through weeks.\n",
    "#### PA plus delivery rate constantly higher than normal notis"
   ]
  },
  {
   "cell_type": "code",
   "execution_count": 108,
   "metadata": {
    "colab": {
     "base_uri": "https://localhost:8080/",
     "height": 1000
    },
    "id": "7Tu5nNAvt_lq",
    "outputId": "39360af0-741c-42f3-c7be-b56ff4ff1cdf"
   },
   "outputs": [
    {
     "data": {
      "text/plain": [
       "<AxesSubplot:xlabel='dateweek'>"
      ]
     },
     "execution_count": 108,
     "metadata": {},
     "output_type": "execute_result"
    },
    {
     "data": {
      "image/png": "[encoded data removed]",
      "text/plain": [
       "<Figure size 576x396 with 1 Axes>"
      ]
     },
     "metadata": {},
     "output_type": "display_data"
    },
    {
     "data": {
      "image/png": "[encoded data removed]",
      "text/plain": [
       "<Figure size 576x396 with 1 Axes>"
      ]
     },
     "metadata": {},
     "output_type": "display_data"
    },
    {
     "data": {
      "image/png": "[encoded data removed]",
      "text/plain": [
       "<Figure size 576x396 with 1 Axes>"
      ]
     },
     "metadata": {},
     "output_type": "display_data"
    },
    {
     "data": {
      "image/png": "[encoded data removed]",
      "text/plain": [
       "<Figure size 576x396 with 1 Axes>"
      ]
     },
     "metadata": {},
     "output_type": "display_data"
    },
    {
     "data": {
      "image/png": "[encoded data removed]",
      "text/plain": [
       "<Figure size 576x396 with 1 Axes>"
      ]
     },
     "metadata": {},
     "output_type": "display_data"
    },
    {
     "data": {
      "image/png": "[encoded data removed]",
      "text/plain": [
       "<Figure size 576x396 with 1 Axes>"
      ]
     },
     "metadata": {},
     "output_type": "display_data"
    }
   ],
   "source": [
    "res.sort_values(by=['dateweek'],ascending=True).plot(\"dateweek\", \"delivery_rate_percentage\", kind=\"bar\", label = 'delivery_rate_percentage')\n",
    "res.sort_values(by=['dateweek'],ascending=True).plot(\"dateweek\", \"delivery_rate_paplus_percentage\", kind=\"bar\", label = 'delivery_rate_paplus_percentage')\n",
    "\n",
    "res.sort_values(by=['dateweek'],ascending=True).plot(\"dateweek\", \"totalnoti_sent\", kind=\"bar\", label = 'Total noti sent')\n",
    "res.sort_values(by=['dateweek'],ascending=True).plot(\"dateweek\", \"paplus_sent\", kind=\"bar\", label = 'PA plus sent')\n",
    "\n",
    "res.sort_values(by=['dateweek'],ascending=True).plot(\"dateweek\", \"totalnoti_imp\", kind=\"bar\", label = 'Total noti imp')\n",
    "res.sort_values(by=['dateweek'],ascending=True).plot(\"dateweek\", \"paplus_imp\", kind=\"bar\", label = 'PA plus imp')"
   ]
  },
  {
   "cell_type": "code",
   "execution_count": 109,
   "metadata": {
    "colab": {
     "base_uri": "https://localhost:8080/"
    },
    "id": "EDUSi-RXCVB0",
    "outputId": "f9d11371-1714-4781-b0aa-60b520aeb2de"
   },
   "outputs": [
    {
     "data": {
      "text/plain": [
       "ctype                     object\n",
       "cid                       object\n",
       "delivery_type             object\n",
       "sherpa_flag               object\n",
       "target_segment            object\n",
       "ttl                        int64\n",
       "date              datetime64[ns]\n",
       "sent                       int64\n",
       "impressions                int64\n",
       "paplus_sent                int64\n",
       "imp                        int64\n",
       "app_name                  object\n",
       "chk_flag                   int64\n",
       "dateweek                   int64\n",
       "dtype: object"
      ]
     },
     "execution_count": 109,
     "metadata": {},
     "output_type": "execute_result"
    }
   ],
   "source": [
    "df.dtypes"
   ]
  },
  {
   "cell_type": "code",
   "execution_count": 110,
   "metadata": {
    "colab": {
     "base_uri": "https://localhost:8080/",
     "height": 1000
    },
    "id": "krVBtA98S66V",
    "outputId": "e262417d-b290-4e3f-f9c4-8b507e90632b"
   },
   "outputs": [
    {
     "data": {
      "text/html": [
       "<div>\n",
       "<style scoped>\n",
       "    .dataframe tbody tr th:only-of-type {\n",
       "        vertical-align: middle;\n",
       "    }\n",
       "\n",
       "    .dataframe tbody tr th {\n",
       "        vertical-align: top;\n",
       "    }\n",
       "\n",
       "    .dataframe thead th {\n",
       "        text-align: right;\n",
       "    }\n",
       "</style>\n",
       "<table border=\"1\" class=\"dataframe\">\n",
       "  <thead>\n",
       "    <tr style=\"text-align: right;\">\n",
       "      <th></th>\n",
       "      <th>ctype</th>\n",
       "      <th>dateweek</th>\n",
       "      <th>paplus_sent</th>\n",
       "      <th>paplus_imp</th>\n",
       "      <th>totalnoti_sent</th>\n",
       "      <th>totalnoti_imp</th>\n",
       "      <th>uniquecampaigns</th>\n",
       "      <th>delivery_rate_percentage</th>\n",
       "      <th>delivery_rate_paplus_percentage</th>\n",
       "    </tr>\n",
       "  </thead>\n",
       "  <tbody>\n",
       "    <tr>\n",
       "      <th>2</th>\n",
       "      <td>General Push</td>\n",
       "      <td>1</td>\n",
       "      <td>96936115</td>\n",
       "      <td>67357364</td>\n",
       "      <td>2563657787</td>\n",
       "      <td>1125317261</td>\n",
       "      <td>3133</td>\n",
       "      <td>43.894987</td>\n",
       "      <td>69.486346</td>\n",
       "    </tr>\n",
       "    <tr>\n",
       "      <th>1</th>\n",
       "      <td>General Push</td>\n",
       "      <td>2</td>\n",
       "      <td>104430426</td>\n",
       "      <td>80941564</td>\n",
       "      <td>2667609942</td>\n",
       "      <td>1171670331</td>\n",
       "      <td>2913</td>\n",
       "      <td>43.922101</td>\n",
       "      <td>77.507645</td>\n",
       "    </tr>\n",
       "    <tr>\n",
       "      <th>3</th>\n",
       "      <td>General Push</td>\n",
       "      <td>3</td>\n",
       "      <td>90605807</td>\n",
       "      <td>70846563</td>\n",
       "      <td>2304109277</td>\n",
       "      <td>1050336622</td>\n",
       "      <td>3143</td>\n",
       "      <td>45.585365</td>\n",
       "      <td>78.192078</td>\n",
       "    </tr>\n",
       "    <tr>\n",
       "      <th>0</th>\n",
       "      <td>General Push</td>\n",
       "      <td>4</td>\n",
       "      <td>162544347</td>\n",
       "      <td>117048979</td>\n",
       "      <td>2996018523</td>\n",
       "      <td>1422295896</td>\n",
       "      <td>3412</td>\n",
       "      <td>47.472867</td>\n",
       "      <td>72.010489</td>\n",
       "    </tr>\n",
       "    <tr>\n",
       "      <th>4</th>\n",
       "      <td>General Push</td>\n",
       "      <td>5</td>\n",
       "      <td>67232225</td>\n",
       "      <td>49114063</td>\n",
       "      <td>886889170</td>\n",
       "      <td>427466272</td>\n",
       "      <td>933</td>\n",
       "      <td>48.198387</td>\n",
       "      <td>73.051372</td>\n",
       "    </tr>\n",
       "    <tr>\n",
       "      <th>18</th>\n",
       "      <td>Geo-fencing Push</td>\n",
       "      <td>1</td>\n",
       "      <td>0</td>\n",
       "      <td>0</td>\n",
       "      <td>63</td>\n",
       "      <td>64</td>\n",
       "      <td>4</td>\n",
       "      <td>101.587302</td>\n",
       "      <td>NaN</td>\n",
       "    </tr>\n",
       "    <tr>\n",
       "      <th>17</th>\n",
       "      <td>Geo-fencing Push</td>\n",
       "      <td>2</td>\n",
       "      <td>0</td>\n",
       "      <td>0</td>\n",
       "      <td>84</td>\n",
       "      <td>84</td>\n",
       "      <td>4</td>\n",
       "      <td>100.000000</td>\n",
       "      <td>NaN</td>\n",
       "    </tr>\n",
       "    <tr>\n",
       "      <th>15</th>\n",
       "      <td>Geo-fencing Push</td>\n",
       "      <td>3</td>\n",
       "      <td>0</td>\n",
       "      <td>0</td>\n",
       "      <td>184</td>\n",
       "      <td>102</td>\n",
       "      <td>2</td>\n",
       "      <td>55.434783</td>\n",
       "      <td>NaN</td>\n",
       "    </tr>\n",
       "    <tr>\n",
       "      <th>16</th>\n",
       "      <td>Geo-fencing Push</td>\n",
       "      <td>4</td>\n",
       "      <td>0</td>\n",
       "      <td>0</td>\n",
       "      <td>174</td>\n",
       "      <td>170</td>\n",
       "      <td>2</td>\n",
       "      <td>97.701149</td>\n",
       "      <td>NaN</td>\n",
       "    </tr>\n",
       "    <tr>\n",
       "      <th>21</th>\n",
       "      <td>Geo-fencing Push</td>\n",
       "      <td>5</td>\n",
       "      <td>0</td>\n",
       "      <td>0</td>\n",
       "      <td>8</td>\n",
       "      <td>8</td>\n",
       "      <td>2</td>\n",
       "      <td>100.000000</td>\n",
       "      <td>NaN</td>\n",
       "    </tr>\n",
       "    <tr>\n",
       "      <th>20</th>\n",
       "      <td>RT Push</td>\n",
       "      <td>1</td>\n",
       "      <td>0</td>\n",
       "      <td>0</td>\n",
       "      <td>9</td>\n",
       "      <td>9</td>\n",
       "      <td>1</td>\n",
       "      <td>100.000000</td>\n",
       "      <td>NaN</td>\n",
       "    </tr>\n",
       "    <tr>\n",
       "      <th>23</th>\n",
       "      <td>RT Push</td>\n",
       "      <td>2</td>\n",
       "      <td>0</td>\n",
       "      <td>0</td>\n",
       "      <td>6</td>\n",
       "      <td>6</td>\n",
       "      <td>1</td>\n",
       "      <td>100.000000</td>\n",
       "      <td>NaN</td>\n",
       "    </tr>\n",
       "    <tr>\n",
       "      <th>19</th>\n",
       "      <td>RT Push</td>\n",
       "      <td>4</td>\n",
       "      <td>0</td>\n",
       "      <td>0</td>\n",
       "      <td>12</td>\n",
       "      <td>12</td>\n",
       "      <td>2</td>\n",
       "      <td>100.000000</td>\n",
       "      <td>NaN</td>\n",
       "    </tr>\n",
       "    <tr>\n",
       "      <th>22</th>\n",
       "      <td>RT Push</td>\n",
       "      <td>5</td>\n",
       "      <td>0</td>\n",
       "      <td>0</td>\n",
       "      <td>6</td>\n",
       "      <td>6</td>\n",
       "      <td>1</td>\n",
       "      <td>100.000000</td>\n",
       "      <td>NaN</td>\n",
       "    </tr>\n",
       "    <tr>\n",
       "      <th>7</th>\n",
       "      <td>ST Push</td>\n",
       "      <td>1</td>\n",
       "      <td>187571</td>\n",
       "      <td>138751</td>\n",
       "      <td>171008581</td>\n",
       "      <td>87803042</td>\n",
       "      <td>1684</td>\n",
       "      <td>51.344232</td>\n",
       "      <td>73.972522</td>\n",
       "    </tr>\n",
       "    <tr>\n",
       "      <th>5</th>\n",
       "      <td>ST Push</td>\n",
       "      <td>2</td>\n",
       "      <td>207606</td>\n",
       "      <td>160812</td>\n",
       "      <td>183520452</td>\n",
       "      <td>92586577</td>\n",
       "      <td>1690</td>\n",
       "      <td>50.450277</td>\n",
       "      <td>77.460189</td>\n",
       "    </tr>\n",
       "    <tr>\n",
       "      <th>8</th>\n",
       "      <td>ST Push</td>\n",
       "      <td>3</td>\n",
       "      <td>178510</td>\n",
       "      <td>137419</td>\n",
       "      <td>152711139</td>\n",
       "      <td>77070367</td>\n",
       "      <td>1740</td>\n",
       "      <td>50.468072</td>\n",
       "      <td>76.981122</td>\n",
       "    </tr>\n",
       "    <tr>\n",
       "      <th>6</th>\n",
       "      <td>ST Push</td>\n",
       "      <td>4</td>\n",
       "      <td>56945</td>\n",
       "      <td>48210</td>\n",
       "      <td>173090745</td>\n",
       "      <td>86192383</td>\n",
       "      <td>1743</td>\n",
       "      <td>49.796067</td>\n",
       "      <td>84.660637</td>\n",
       "    </tr>\n",
       "    <tr>\n",
       "      <th>11</th>\n",
       "      <td>ST Push</td>\n",
       "      <td>5</td>\n",
       "      <td>4817</td>\n",
       "      <td>4270</td>\n",
       "      <td>50896683</td>\n",
       "      <td>25078495</td>\n",
       "      <td>1437</td>\n",
       "      <td>49.273339</td>\n",
       "      <td>88.644384</td>\n",
       "    </tr>\n",
       "    <tr>\n",
       "      <th>10</th>\n",
       "      <td>TXN API Push</td>\n",
       "      <td>1</td>\n",
       "      <td>551691</td>\n",
       "      <td>467225</td>\n",
       "      <td>52098429</td>\n",
       "      <td>17458737</td>\n",
       "      <td>6082</td>\n",
       "      <td>33.511062</td>\n",
       "      <td>84.689618</td>\n",
       "    </tr>\n",
       "    <tr>\n",
       "      <th>9</th>\n",
       "      <td>TXN API Push</td>\n",
       "      <td>2</td>\n",
       "      <td>1055697</td>\n",
       "      <td>861867</td>\n",
       "      <td>54146346</td>\n",
       "      <td>20614647</td>\n",
       "      <td>5770</td>\n",
       "      <td>38.072093</td>\n",
       "      <td>81.639618</td>\n",
       "    </tr>\n",
       "    <tr>\n",
       "      <th>13</th>\n",
       "      <td>TXN API Push</td>\n",
       "      <td>3</td>\n",
       "      <td>0</td>\n",
       "      <td>0</td>\n",
       "      <td>45944101</td>\n",
       "      <td>14932905</td>\n",
       "      <td>6454</td>\n",
       "      <td>32.502334</td>\n",
       "      <td>NaN</td>\n",
       "    </tr>\n",
       "    <tr>\n",
       "      <th>12</th>\n",
       "      <td>TXN API Push</td>\n",
       "      <td>4</td>\n",
       "      <td>0</td>\n",
       "      <td>0</td>\n",
       "      <td>46787470</td>\n",
       "      <td>15813576</td>\n",
       "      <td>5839</td>\n",
       "      <td>33.798741</td>\n",
       "      <td>NaN</td>\n",
       "    </tr>\n",
       "    <tr>\n",
       "      <th>14</th>\n",
       "      <td>TXN API Push</td>\n",
       "      <td>5</td>\n",
       "      <td>0</td>\n",
       "      <td>0</td>\n",
       "      <td>11857233</td>\n",
       "      <td>3826241</td>\n",
       "      <td>2737</td>\n",
       "      <td>32.269257</td>\n",
       "      <td>NaN</td>\n",
       "    </tr>\n",
       "  </tbody>\n",
       "</table>\n",
       "</div>"
      ],
      "text/plain": [
       "               ctype  dateweek  paplus_sent  paplus_imp  totalnoti_sent  \\\n",
       "2       General Push         1     96936115    67357364      2563657787   \n",
       "1       General Push         2    104430426    80941564      2667609942   \n",
       "3       General Push         3     90605807    70846563      2304109277   \n",
       "0       General Push         4    162544347   117048979      2996018523   \n",
       "4       General Push         5     67232225    49114063       886889170   \n",
       "18  Geo-fencing Push         1            0           0              63   \n",
       "17  Geo-fencing Push         2            0           0              84   \n",
       "15  Geo-fencing Push         3            0           0             184   \n",
       "16  Geo-fencing Push         4            0           0             174   \n",
       "21  Geo-fencing Push         5            0           0               8   \n",
       "20           RT Push         1            0           0               9   \n",
       "23           RT Push         2            0           0               6   \n",
       "19           RT Push         4            0           0              12   \n",
       "22           RT Push         5            0           0               6   \n",
       "7            ST Push         1       187571      138751       171008581   \n",
       "5            ST Push         2       207606      160812       183520452   \n",
       "8            ST Push         3       178510      137419       152711139   \n",
       "6            ST Push         4        56945       48210       173090745   \n",
       "11           ST Push         5         4817        4270        50896683   \n",
       "10      TXN API Push         1       551691      467225        52098429   \n",
       "9       TXN API Push         2      1055697      861867        54146346   \n",
       "13      TXN API Push         3            0           0        45944101   \n",
       "12      TXN API Push         4            0           0        46787470   \n",
       "14      TXN API Push         5            0           0        11857233   \n",
       "\n",
       "    totalnoti_imp  uniquecampaigns  delivery_rate_percentage  \\\n",
       "2      1125317261             3133                 43.894987   \n",
       "1      1171670331             2913                 43.922101   \n",
       "3      1050336622             3143                 45.585365   \n",
       "0      1422295896             3412                 47.472867   \n",
       "4       427466272              933                 48.198387   \n",
       "18             64                4                101.587302   \n",
       "17             84                4                100.000000   \n",
       "15            102                2                 55.434783   \n",
       "16            170                2                 97.701149   \n",
       "21              8                2                100.000000   \n",
       "20              9                1                100.000000   \n",
       "23              6                1                100.000000   \n",
       "19             12                2                100.000000   \n",
       "22              6                1                100.000000   \n",
       "7        87803042             1684                 51.344232   \n",
       "5        92586577             1690                 50.450277   \n",
       "8        77070367             1740                 50.468072   \n",
       "6        86192383             1743                 49.796067   \n",
       "11       25078495             1437                 49.273339   \n",
       "10       17458737             6082                 33.511062   \n",
       "9        20614647             5770                 38.072093   \n",
       "13       14932905             6454                 32.502334   \n",
       "12       15813576             5839                 33.798741   \n",
       "14        3826241             2737                 32.269257   \n",
       "\n",
       "    delivery_rate_paplus_percentage  \n",
       "2                         69.486346  \n",
       "1                         77.507645  \n",
       "3                         78.192078  \n",
       "0                         72.010489  \n",
       "4                         73.051372  \n",
       "18                              NaN  \n",
       "17                              NaN  \n",
       "15                              NaN  \n",
       "16                              NaN  \n",
       "21                              NaN  \n",
       "20                              NaN  \n",
       "23                              NaN  \n",
       "19                              NaN  \n",
       "22                              NaN  \n",
       "7                         73.972522  \n",
       "5                         77.460189  \n",
       "8                         76.981122  \n",
       "6                         84.660637  \n",
       "11                        88.644384  \n",
       "10                        84.689618  \n",
       "9                         81.639618  \n",
       "13                              NaN  \n",
       "12                              NaN  \n",
       "14                              NaN  "
      ]
     },
     "execution_count": 110,
     "metadata": {},
     "output_type": "execute_result"
    }
   ],
   "source": [
    "#Checking the noti performance by week per campaign type\n",
    "res= df.groupby(['ctype','dateweek']).agg(paplus_sent=pd.NamedAgg(column='paplus_sent', aggfunc='sum'),\n",
    "    paplus_imp=pd.NamedAgg(column='imp', aggfunc='sum'),\n",
    "    totalnoti_sent=pd.NamedAgg(column='sent', aggfunc='sum'),\n",
    "    totalnoti_imp=pd.NamedAgg(column='impressions', aggfunc='sum'),\n",
    "    uniquecampaigns=pd.NamedAgg(column='cid', aggfunc='nunique'),\n",
    "    ).sort_values('totalnoti_sent',ascending=False)\n",
    "res['delivery_rate_percentage']=(res['totalnoti_imp']/res['totalnoti_sent'])*100\n",
    "res['delivery_rate_paplus_percentage']=(res['paplus_imp']/res['paplus_sent'])*100\n",
    "res.reset_index( inplace=True)\n",
    "res.sort_values(by=['ctype','dateweek'],ascending=True)\n",
    "#plt.bar(res['ctype','dateweek'],res['delivery_rate_percentage'],color='green')"
   ]
  },
  {
   "cell_type": "code",
   "execution_count": 111,
   "metadata": {
    "colab": {
     "base_uri": "https://localhost:8080/",
     "height": 1000
    },
    "id": "blygzLcMTDbF",
    "outputId": "1ee45f27-711b-4e86-8039-776b01ecd555"
   },
   "outputs": [
    {
     "data": {
      "text/plain": [
       "<AxesSubplot:xlabel='dateweek'>"
      ]
     },
     "execution_count": 111,
     "metadata": {},
     "output_type": "execute_result"
    },
    {
     "data": {
      "image/png": "[encoded data removed]",
      "text/plain": [
       "<Figure size 576x396 with 1 Axes>"
      ]
     },
     "metadata": {},
     "output_type": "display_data"
    },
    {
     "data": {
      "image/png": "[encoded data removed]",
      "text/plain": [
       "<Figure size 576x396 with 1 Axes>"
      ]
     },
     "metadata": {},
     "output_type": "display_data"
    },
    {
     "data": {
      "image/png": "[encoded data removed]",
      "text/plain": [
       "<Figure size 576x396 with 1 Axes>"
      ]
     },
     "metadata": {},
     "output_type": "display_data"
    },
    {
     "data": {
      "image/png": "[encoded data removed]",
      "text/plain": [
       "<Figure size 576x396 with 1 Axes>"
      ]
     },
     "metadata": {},
     "output_type": "display_data"
    },
    {
     "data": {
      "image/png": "[encoded data removed]",
      "text/plain": [
       "<Figure size 576x396 with 1 Axes>"
      ]
     },
     "metadata": {},
     "output_type": "display_data"
    }
   ],
   "source": [
    "#Delivery rates over weeks per campaing types\n",
    "res[res['ctype']=='General Push'].sort_values(by=['dateweek'],ascending=True).plot(\"dateweek\", \"delivery_rate_percentage\", kind=\"bar\", label = 'General Push campaigns')\n",
    "res[res['ctype']=='TXN API Push'].sort_values(by=['dateweek'],ascending=True).plot(\"dateweek\", \"delivery_rate_percentage\", kind=\"bar\", label = 'TXN API Push campaigns')\n",
    "res[res['ctype']=='ST Push'].sort_values(by=['dateweek'],ascending=True).plot(\"dateweek\", \"delivery_rate_percentage\", kind=\"bar\", label = 'ST Push campaigns')\n",
    "res[res['ctype']=='RT Push'].sort_values(by=['dateweek'],ascending=True).plot(\"dateweek\", \"delivery_rate_percentage\", kind=\"bar\", label = 'RT Push campaigns')\n",
    "res[res['ctype']=='Geo-fencing Push'].sort_values(by=['dateweek'],ascending=True).plot(\"dateweek\", \"delivery_rate_percentage\", kind=\"bar\", label = 'Geo-fencing Push campaigns')\n"
   ]
  },
  {
   "cell_type": "markdown",
   "metadata": {
    "id": "DfwN4aAq1fgk"
   },
   "source": [
    "\n",
    "#### General push campaigns see increase in delivery rates over weeks.\n",
    "#### Txn API push campaigns see higher delivery rates in week 2 and 4\n",
    "\n",
    "\n",
    "\n",
    "\n",
    "\n",
    "\n",
    "\n"
   ]
  },
  {
   "cell_type": "markdown",
   "metadata": {
    "id": "NZh7TKgvTMam"
   },
   "source": [
    "## Contrasting between AMP plus and non AMP plus"
   ]
  },
  {
   "cell_type": "code",
   "execution_count": 112,
   "metadata": {
    "colab": {
     "base_uri": "https://localhost:8080/",
     "height": 224
    },
    "id": "49UOqkFVHt8p",
    "outputId": "668d1486-a319-4bc7-8362-49fc1d978126"
   },
   "outputs": [
    {
     "data": {
      "text/html": [
       "<div>\n",
       "<style scoped>\n",
       "    .dataframe tbody tr th:only-of-type {\n",
       "        vertical-align: middle;\n",
       "    }\n",
       "\n",
       "    .dataframe tbody tr th {\n",
       "        vertical-align: top;\n",
       "    }\n",
       "\n",
       "    .dataframe thead th {\n",
       "        text-align: right;\n",
       "    }\n",
       "</style>\n",
       "<table border=\"1\" class=\"dataframe\">\n",
       "  <thead>\n",
       "    <tr style=\"text-align: right;\">\n",
       "      <th></th>\n",
       "      <th>dateweek</th>\n",
       "      <th>paplus_sent</th>\n",
       "      <th>paplus_imp</th>\n",
       "      <th>totalnoti_sent</th>\n",
       "      <th>totalnoti_imp</th>\n",
       "      <th>uniquecampaigns</th>\n",
       "      <th>delivery_rate_percentage</th>\n",
       "      <th>delivery_rate_paplus_percentage</th>\n",
       "    </tr>\n",
       "  </thead>\n",
       "  <tbody>\n",
       "    <tr>\n",
       "      <th>2</th>\n",
       "      <td>1</td>\n",
       "      <td>97675377</td>\n",
       "      <td>67963223</td>\n",
       "      <td>1181773782</td>\n",
       "      <td>478840602</td>\n",
       "      <td>410</td>\n",
       "      <td>40.518804</td>\n",
       "      <td>69.580712</td>\n",
       "    </tr>\n",
       "    <tr>\n",
       "      <th>1</th>\n",
       "      <td>2</td>\n",
       "      <td>105693729</td>\n",
       "      <td>81964243</td>\n",
       "      <td>1200468348</td>\n",
       "      <td>520807728</td>\n",
       "      <td>359</td>\n",
       "      <td>43.383712</td>\n",
       "      <td>77.548823</td>\n",
       "    </tr>\n",
       "    <tr>\n",
       "      <th>3</th>\n",
       "      <td>3</td>\n",
       "      <td>90784317</td>\n",
       "      <td>70983805</td>\n",
       "      <td>839849147</td>\n",
       "      <td>408184589</td>\n",
       "      <td>365</td>\n",
       "      <td>48.602132</td>\n",
       "      <td>78.189502</td>\n",
       "    </tr>\n",
       "    <tr>\n",
       "      <th>0</th>\n",
       "      <td>4</td>\n",
       "      <td>162601292</td>\n",
       "      <td>117097100</td>\n",
       "      <td>1297758068</td>\n",
       "      <td>662087853</td>\n",
       "      <td>504</td>\n",
       "      <td>51.017818</td>\n",
       "      <td>72.014864</td>\n",
       "    </tr>\n",
       "    <tr>\n",
       "      <th>4</th>\n",
       "      <td>5</td>\n",
       "      <td>67237042</td>\n",
       "      <td>49118333</td>\n",
       "      <td>507702627</td>\n",
       "      <td>252100225</td>\n",
       "      <td>149</td>\n",
       "      <td>49.655096</td>\n",
       "      <td>73.052489</td>\n",
       "    </tr>\n",
       "  </tbody>\n",
       "</table>\n",
       "</div>"
      ],
      "text/plain": [
       "   dateweek  paplus_sent  paplus_imp  totalnoti_sent  totalnoti_imp  \\\n",
       "2         1     97675377    67963223      1181773782      478840602   \n",
       "1         2    105693729    81964243      1200468348      520807728   \n",
       "3         3     90784317    70983805       839849147      408184589   \n",
       "0         4    162601292   117097100      1297758068      662087853   \n",
       "4         5     67237042    49118333       507702627      252100225   \n",
       "\n",
       "   uniquecampaigns  delivery_rate_percentage  delivery_rate_paplus_percentage  \n",
       "2              410                 40.518804                        69.580712  \n",
       "1              359                 43.383712                        77.548823  \n",
       "3              365                 48.602132                        78.189502  \n",
       "0              504                 51.017818                        72.014864  \n",
       "4              149                 49.655096                        73.052489  "
      ]
     },
     "execution_count": 112,
     "metadata": {},
     "output_type": "execute_result"
    }
   ],
   "source": [
    "#APPs which use AMP plus\n",
    "res= df[(df['paplus_sent'] >0) ].groupby(['dateweek']).agg(paplus_sent=pd.NamedAgg(column='paplus_sent', aggfunc='sum'),\n",
    "    paplus_imp=pd.NamedAgg(column='imp', aggfunc='sum'),\n",
    "    totalnoti_sent=pd.NamedAgg(column='sent', aggfunc='sum'),\n",
    "    totalnoti_imp=pd.NamedAgg(column='impressions', aggfunc='sum'),\n",
    "    uniquecampaigns=pd.NamedAgg(column='cid', aggfunc='nunique'),\n",
    "    ).sort_values('totalnoti_sent',ascending=False)\n",
    "res['delivery_rate_percentage']=(res['totalnoti_imp']/res['totalnoti_sent'])*100\n",
    "res['delivery_rate_paplus_percentage']=(res['paplus_imp']/res['paplus_sent'])*100\n",
    "res.reset_index( inplace=True)\n",
    "res.sort_values(by=['dateweek'],ascending=True)\n"
   ]
  },
  {
   "cell_type": "code",
   "execution_count": 113,
   "metadata": {
    "colab": {
     "base_uri": "https://localhost:8080/",
     "height": 550
    },
    "id": "FGlCmxg6CnMI",
    "outputId": "aa85e9ae-8763-4cf4-9233-2deec7b29123"
   },
   "outputs": [
    {
     "data": {
      "text/plain": [
       "<AxesSubplot:xlabel='dateweek'>"
      ]
     },
     "execution_count": 113,
     "metadata": {},
     "output_type": "execute_result"
    },
    {
     "data": {
      "image/png": "[encoded data removed]",
      "text/plain": [
       "<Figure size 576x396 with 1 Axes>"
      ]
     },
     "metadata": {},
     "output_type": "display_data"
    },
    {
     "data": {
      "image/png": "[encoded data removed]",
      "text/plain": [
       "<Figure size 576x396 with 1 Axes>"
      ]
     },
     "metadata": {},
     "output_type": "display_data"
    }
   ],
   "source": [
    "res.sort_values(by=['dateweek'],ascending=True).plot(\"dateweek\", \"delivery_rate_percentage\", kind=\"bar\", label = 'delivery rate perc in AMP plus using APP')\n",
    "res.sort_values(by=['dateweek'],ascending=True).plot(\"dateweek\", \"delivery_rate_paplus_percentage\", kind=\"bar\", label = 'PAPlus noti delivery rate perc in AMP plus using APP')"
   ]
  },
  {
   "attachments": {},
   "cell_type": "markdown",
   "metadata": {},
   "source": [
    "#### Delivery rate\n",
    "Using PushAMP+ is beneficial for APPs. PushAMP+ gives delivery rate % upwards of 70%\n",
    "Within the apps that have used PushAmp+ too, in scenarios where pushAmp+ is not used , delivery rate hovers at 42% only"
   ]
  },
  {
   "cell_type": "markdown",
   "metadata": {},
   "source": [
    "#### APPs which dont use AMP plus"
   ]
  },
  {
   "cell_type": "code",
   "execution_count": 114,
   "metadata": {
    "cellView": "code",
    "colab": {
     "base_uri": "https://localhost:8080/",
     "height": 224
    },
    "id": "nrunIb4JJDHP",
    "outputId": "a4953cb1-a539-4f53-bb16-6d2a69019d46"
   },
   "outputs": [
    {
     "data": {
      "text/html": [
       "<div>\n",
       "<style scoped>\n",
       "    .dataframe tbody tr th:only-of-type {\n",
       "        vertical-align: middle;\n",
       "    }\n",
       "\n",
       "    .dataframe tbody tr th {\n",
       "        vertical-align: top;\n",
       "    }\n",
       "\n",
       "    .dataframe thead th {\n",
       "        text-align: right;\n",
       "    }\n",
       "</style>\n",
       "<table border=\"1\" class=\"dataframe\">\n",
       "  <thead>\n",
       "    <tr style=\"text-align: right;\">\n",
       "      <th></th>\n",
       "      <th>dateweek</th>\n",
       "      <th>paplus_sent</th>\n",
       "      <th>paplus_imp</th>\n",
       "      <th>totalnoti_sent</th>\n",
       "      <th>totalnoti_imp</th>\n",
       "      <th>uniquecampaigns</th>\n",
       "      <th>delivery_rate_percentage</th>\n",
       "      <th>delivery_rate_paplus_percentage</th>\n",
       "    </tr>\n",
       "  </thead>\n",
       "  <tbody>\n",
       "    <tr>\n",
       "      <th>3</th>\n",
       "      <td>1</td>\n",
       "      <td>0</td>\n",
       "      <td>117</td>\n",
       "      <td>1604991087</td>\n",
       "      <td>751738511</td>\n",
       "      <td>10510</td>\n",
       "      <td>46.837551</td>\n",
       "      <td>inf</td>\n",
       "    </tr>\n",
       "    <tr>\n",
       "      <th>1</th>\n",
       "      <td>2</td>\n",
       "      <td>0</td>\n",
       "      <td>0</td>\n",
       "      <td>1704808482</td>\n",
       "      <td>764063917</td>\n",
       "      <td>10040</td>\n",
       "      <td>44.818167</td>\n",
       "      <td>NaN</td>\n",
       "    </tr>\n",
       "    <tr>\n",
       "      <th>2</th>\n",
       "      <td>3</td>\n",
       "      <td>0</td>\n",
       "      <td>177</td>\n",
       "      <td>1662915554</td>\n",
       "      <td>734155407</td>\n",
       "      <td>10987</td>\n",
       "      <td>44.148688</td>\n",
       "      <td>inf</td>\n",
       "    </tr>\n",
       "    <tr>\n",
       "      <th>0</th>\n",
       "      <td>4</td>\n",
       "      <td>0</td>\n",
       "      <td>89</td>\n",
       "      <td>1918138856</td>\n",
       "      <td>862214184</td>\n",
       "      <td>10498</td>\n",
       "      <td>44.950561</td>\n",
       "      <td>inf</td>\n",
       "    </tr>\n",
       "    <tr>\n",
       "      <th>4</th>\n",
       "      <td>5</td>\n",
       "      <td>0</td>\n",
       "      <td>0</td>\n",
       "      <td>441940473</td>\n",
       "      <td>204270797</td>\n",
       "      <td>4962</td>\n",
       "      <td>46.221337</td>\n",
       "      <td>NaN</td>\n",
       "    </tr>\n",
       "  </tbody>\n",
       "</table>\n",
       "</div>"
      ],
      "text/plain": [
       "   dateweek  paplus_sent  paplus_imp  totalnoti_sent  totalnoti_imp  \\\n",
       "3         1            0         117      1604991087      751738511   \n",
       "1         2            0           0      1704808482      764063917   \n",
       "2         3            0         177      1662915554      734155407   \n",
       "0         4            0          89      1918138856      862214184   \n",
       "4         5            0           0       441940473      204270797   \n",
       "\n",
       "   uniquecampaigns  delivery_rate_percentage  delivery_rate_paplus_percentage  \n",
       "3            10510                 46.837551                              inf  \n",
       "1            10040                 44.818167                              NaN  \n",
       "2            10987                 44.148688                              inf  \n",
       "0            10498                 44.950561                              inf  \n",
       "4             4962                 46.221337                              NaN  "
      ]
     },
     "execution_count": 114,
     "metadata": {},
     "output_type": "execute_result"
    }
   ],
   "source": [
    "#APPs which dont use AMP plus\n",
    "res= df[(df['paplus_sent'] ==0)].groupby(['dateweek']).agg(paplus_sent=pd.NamedAgg(column='paplus_sent', aggfunc='sum'),\n",
    "    paplus_imp=pd.NamedAgg(column='imp', aggfunc='sum'),\n",
    "    totalnoti_sent=pd.NamedAgg(column='sent', aggfunc='sum'),\n",
    "    totalnoti_imp=pd.NamedAgg(column='impressions', aggfunc='sum'),\n",
    "    uniquecampaigns=pd.NamedAgg(column='cid', aggfunc='nunique'),\n",
    "    ).sort_values('totalnoti_sent',ascending=False)\n",
    "res['delivery_rate_percentage']=(res['totalnoti_imp']/res['totalnoti_sent'])*100\n",
    "res['delivery_rate_paplus_percentage']=(res['paplus_imp']/res['paplus_sent'])*100\n",
    "res.reset_index( inplace=True)\n",
    "res.sort_values(by=['dateweek'],ascending=True)"
   ]
  },
  {
   "cell_type": "code",
   "execution_count": 115,
   "metadata": {
    "colab": {
     "base_uri": "https://localhost:8080/",
     "height": 292
    },
    "id": "3UXJ8bggk5KG",
    "outputId": "dbf171bf-4007-4413-8793-8e6156bb648b",
    "scrolled": true
   },
   "outputs": [
    {
     "data": {
      "text/plain": [
       "<AxesSubplot:xlabel='dateweek'>"
      ]
     },
     "execution_count": 115,
     "metadata": {},
     "output_type": "execute_result"
    },
    {
     "data": {
      "image/png": "[encoded data removed]",
      "text/plain": [
       "<Figure size 576x396 with 1 Axes>"
      ]
     },
     "metadata": {},
     "output_type": "display_data"
    }
   ],
   "source": [
    "res.sort_values(by=['dateweek'],ascending=True).plot(\"dateweek\", \"delivery_rate_percentage\", kind=\"bar\", label = 'delivery rate perc in APPs not using AMP+')"
   ]
  },
  {
   "attachments": {},
   "cell_type": "markdown",
   "metadata": {},
   "source": [
    "#### Delivery rate\n",
    "APPs not using PushAmp+ see a delivery rates hover at 45% only"
   ]
  },
  {
   "attachments": {},
   "cell_type": "markdown",
   "metadata": {},
   "source": [
    "Delivery Rates are significantly higher in Boosted Notis (70-80%) as compared to the non Boosted notis (~45%)"
   ]
  }
 ],
 "metadata": {
  "colab": {
   "provenance": [],
   "toc_visible": true
  },
  "kernelspec": {
   "display_name": "Python 3 (ipykernel)",
   "language": "python",
   "name": "python3"
  },
  "language_info": {
   "codemirror_mode": {
    "name": "ipython",
    "version": 3
   },
   "file_extension": ".py",
   "mimetype": "text/x-python",
   "name": "python",
   "nbconvert_exporter": "python",
   "pygments_lexer": "ipython3",
   "version": "3.9.12"
  }
 },
 "nbformat": 4,
 "nbformat_minor": 1
}
